{
  "cells": [
    {
      "cell_type": "markdown",
      "metadata": {
        "id": "view-in-github",
        "colab_type": "text"
      },
      "source": [
        "<a href=\"https://colab.research.google.com/github/KYK0328/ecommerce/blob/master/productlist_popularity.ipynb\" target=\"_parent\"><img src=\"https://colab.research.google.com/assets/colab-badge.svg\" alt=\"Open In Colab\"/></a>"
      ]
    },
    {
      "cell_type": "markdown",
      "metadata": {
        "id": "IyqH_-YGwbyT"
      },
      "source": [
        "### 초기 설정"
      ]
    },
    {
      "cell_type": "code",
      "execution_count": null,
      "metadata": {
        "colab": {
          "base_uri": "https://localhost:8080/"
        },
        "id": "OE6imxXjwQV1",
        "outputId": "e1036e61-6bff-4ce6-f00e-55447a60b135"
      },
      "outputs": [
        {
          "output_type": "stream",
          "name": "stdout",
          "text": [
            "Mounted at /content/drive\n"
          ]
        }
      ],
      "source": [
        "#구글 드라이브 연동\n",
        "from google.colab import drive\n",
        "drive.mount('/content/drive')"
      ]
    },
    {
      "cell_type": "code",
      "execution_count": null,
      "metadata": {
        "colab": {
          "base_uri": "https://localhost:8080/"
        },
        "id": "S4EEH9oXwWTS",
        "outputId": "b08d47fe-03aa-4e75-87c2-613f9f143cca"
      },
      "outputs": [
        {
          "output_type": "stream",
          "name": "stdout",
          "text": [
            "Collecting pyspark\n",
            "  Downloading pyspark-3.4.1.tar.gz (310.8 MB)\n",
            "\u001b[2K     \u001b[90m━━━━━━━━━━━━━━━━━━━━━━━━━━━━━━━━━━━━━━━\u001b[0m \u001b[32m310.8/310.8 MB\u001b[0m \u001b[31m1.9 MB/s\u001b[0m eta \u001b[36m0:00:00\u001b[0m\n",
            "\u001b[?25h  Preparing metadata (setup.py) ... \u001b[?25l\u001b[?25hdone\n",
            "Requirement already satisfied: py4j==0.10.9.7 in /usr/local/lib/python3.10/dist-packages (from pyspark) (0.10.9.7)\n",
            "Building wheels for collected packages: pyspark\n",
            "  Building wheel for pyspark (setup.py) ... \u001b[?25l\u001b[?25hdone\n",
            "  Created wheel for pyspark: filename=pyspark-3.4.1-py2.py3-none-any.whl size=311285398 sha256=7f903d77d741717b692fc3a2aae58dc73408477670ec8b795e4388d2a5c268c1\n",
            "  Stored in directory: /root/.cache/pip/wheels/0d/77/a3/ff2f74cc9ab41f8f594dabf0579c2a7c6de920d584206e0834\n",
            "Successfully built pyspark\n",
            "Installing collected packages: pyspark\n",
            "Successfully installed pyspark-3.4.1\n"
          ]
        }
      ],
      "source": [
        "!pip install pyspark"
      ]
    },
    {
      "cell_type": "code",
      "execution_count": null,
      "metadata": {
        "id": "AHHjZx4pwWWw"
      },
      "outputs": [],
      "source": [
        "import pyspark\n",
        "from pyspark import SparkConf\n",
        "from pyspark import SparkContext\n",
        "\n",
        "from pyspark.sql import SparkSession\n",
        "from pyspark.sql import SQLContext"
      ]
    },
    {
      "cell_type": "code",
      "execution_count": null,
      "metadata": {
        "id": "wQ3HFK9KwWZP"
      },
      "outputs": [],
      "source": [
        "spark = SparkSession.builder.getOrCreate()"
      ]
    },
    {
      "cell_type": "code",
      "execution_count": null,
      "metadata": {
        "id": "oxGi9bFiwWb1"
      },
      "outputs": [],
      "source": [
        "import os\n",
        "os.chdir('/content/drive/MyDrive/cosmetic')"
      ]
    },
    {
      "cell_type": "code",
      "execution_count": null,
      "metadata": {
        "id": "UrwipN__wWeU"
      },
      "outputs": [],
      "source": [
        "new_df = spark.read.option('header', True).option('inferSchema', True).csv('/content/drive/MyDrive/cosmetic/new.csv')\n",
        "total = new_df.createOrReplaceTempView('total')"
      ]
    },
    {
      "cell_type": "markdown",
      "metadata": {
        "id": "HtNahGWiwiJi"
      },
      "source": [
        "## 1. 데이터 확인\n",
        "- 월별 코호트 구분\n",
        "- 10월, 1월 코호트의 (최다 구매 제품, 브랜드) 특성 파악\n",
        "- event_type= purchase '구매'에 초점"
      ]
    },
    {
      "cell_type": "code",
      "execution_count": null,
      "metadata": {
        "colab": {
          "base_uri": "https://localhost:8080/"
        },
        "id": "pZA-sT9dwWg7",
        "outputId": "08d33d11-aae0-475e-d70a-0af1b6564f6d"
      },
      "outputs": [
        {
          "name": "stdout",
          "output_type": "stream",
          "text": [
            "+-------------------+----------+----------+-------------------+-------------+------+-----+-------+------------+\n",
            "|         event_time|event_type|product_id|        category_id|category_code| brand|price|user_id|user_session|\n",
            "+-------------------+----------+----------+-------------------+-------------+------+-----+-------+------------+\n",
            "|2020-01-14 16:15:21|      view|   5865526|1487580008447738866|         null|   cnd| 10.0| 465496|           1|\n",
            "|2020-01-14 16:25:35|      view|   5769989|1487580008447738866|         null|   cnd| 10.0| 465496|           2|\n",
            "|2020-01-14 16:27:31|      view|   5865524|1487580008447738866|         null|   cnd| 10.0| 465496|           2|\n",
            "|2019-12-22 12:50:22|      view|   5746011|1487580009051717646|         null|runail|34.92|2963072|          38|\n",
            "|2019-12-22 12:50:45|      view|   5707747|1487580009051717646|         null|  null|73.02|2963072|          38|\n",
            "|2019-12-22 12:50:58|      view|   5746011|1487580009051717646|         null|runail|34.92|2963072|          38|\n",
            "|2019-12-22 12:53:12|      view|   5707747|1487580009051717646|         null|  null|73.02|2963072|          38|\n",
            "|2019-12-22 12:54:34|      view|   5841190|1487580009051717646|         null|  null|47.59|2963072|          38|\n",
            "|2019-12-22 12:55:04|      view|   5707747|1487580009051717646|         null|  null|73.02|2963072|          38|\n",
            "|2019-12-22 12:55:17|      view|   5707747|1487580009051717646|         null|  null|73.02|2963072|          38|\n",
            "+-------------------+----------+----------+-------------------+-------------+------+-----+-------+------------+\n",
            "\n"
          ]
        }
      ],
      "source": [
        "result = spark.sql(\"\"\"\n",
        "SELECT *\n",
        "FROM total\n",
        "Limit 10\n",
        "\"\"\")\n",
        "result.show()"
      ]
    },
    {
      "cell_type": "markdown",
      "metadata": {
        "id": "XWFYMDDBxa6B"
      },
      "source": [
        "### 코호트 preprocessing"
      ]
    },
    {
      "cell_type": "code",
      "execution_count": null,
      "metadata": {
        "colab": {
          "base_uri": "https://localhost:8080/"
        },
        "id": "ey124Ev5zyy7",
        "outputId": "1de00c33-2a58-4e54-9d1a-17f18bc4d2b0"
      },
      "outputs": [
        {
          "name": "stdout",
          "output_type": "stream",
          "text": [
            "+--------+-----------------+----------+----------------+\n",
            "| user_id|first_order_month|order_date|first_order_date|\n",
            "+--------+-----------------+----------+----------------+\n",
            "|43713532|       2019-10-01|2019-10-13|      2019-10-13|\n",
            "|43713532|       2019-10-01|2019-10-13|      2019-10-13|\n",
            "|43713532|       2019-10-01|2019-10-13|      2019-10-13|\n",
            "|43713532|       2019-10-01|2019-10-13|      2019-10-13|\n",
            "|43713532|       2019-10-01|2019-10-13|      2019-10-13|\n",
            "|43713532|       2019-10-01|2019-10-13|      2019-10-13|\n",
            "|43713532|       2019-10-01|2019-10-13|      2019-10-13|\n",
            "|43713532|       2019-10-01|2019-10-13|      2019-10-13|\n",
            "|43713532|       2019-10-01|2019-10-13|      2019-10-13|\n",
            "|43713532|       2019-10-01|2019-10-13|      2019-10-13|\n",
            "|43713532|       2019-10-01|2019-10-13|      2019-10-13|\n",
            "|43713532|       2019-10-01|2019-10-13|      2019-10-13|\n",
            "|43713532|       2019-10-01|2019-10-13|      2019-10-13|\n",
            "|43713532|       2019-10-01|2019-10-13|      2019-10-13|\n",
            "|43713532|       2019-10-01|2019-10-13|      2019-10-13|\n",
            "|43713532|       2019-10-01|2019-10-13|      2019-10-13|\n",
            "|43713532|       2019-10-01|2019-10-13|      2019-10-13|\n",
            "|43713532|       2019-10-01|2019-10-13|      2019-10-13|\n",
            "|43713532|       2019-10-01|2019-10-13|      2019-10-13|\n",
            "|43713532|       2019-10-01|2019-10-13|      2019-10-13|\n",
            "+--------+-----------------+----------+----------------+\n",
            "only showing top 20 rows\n",
            "\n"
          ]
        }
      ],
      "source": [
        "result = spark.sql(\"\"\"\n",
        "WITH stats AS (\n",
        "  SELECT user_id\n",
        "       , DATE_FORMAT(MIN(event_time), 'yyyy-MM-dd') AS first_order_date\n",
        "       , DATE_FORMAT(MAX(event_time), 'yyyy-MM-dd') AS last_order_date\n",
        "  FROM total\n",
        "  WHERE event_type = 'purchase'\n",
        "  GROUP BY user_id\n",
        "), processed AS (\n",
        "  SELECT t.user_id\n",
        "       , DATE_FORMAT(s.first_order_date, 'yyyy-MM-01') AS first_order_month\n",
        "       , DATE_FORMAT(t.event_time, 'yyyy-MM-dd') AS order_date\n",
        "       , s.first_order_date\n",
        "  FROM total t\n",
        "    INNER JOIN stats s ON t.user_id = s.user_id AND t.event_type = 'purchase'\n",
        ")\n",
        "SELECT *\n",
        "FROM processed;\n",
        "\n",
        "\"\"\")\n",
        "result.show()"
      ]
    },
    {
      "cell_type": "markdown",
      "source": [
        "### 10월 코호트"
      ],
      "metadata": {
        "id": "rXKq3wy2azdc"
      }
    },
    {
      "cell_type": "code",
      "execution_count": null,
      "metadata": {
        "colab": {
          "base_uri": "https://localhost:8080/"
        },
        "id": "VCMEzPzYxalI",
        "outputId": "a7f602d9-2752-4833-ccf8-ae0132b023ac"
      },
      "outputs": [
        {
          "name": "stdout",
          "output_type": "stream",
          "text": [
            "+----------+-----+---------+----------+\n",
            "|product_id|price|    brand|user_count|\n",
            "+----------+-----+---------+----------+\n",
            "|   5809910| 5.24|  grattol|      1298|\n",
            "|   5854897| 0.32|    irisk|      1095|\n",
            "|   5700037|  0.4|   runail|       954|\n",
            "|   5751422|10.95|      uno|       953|\n",
            "|   5802432| 0.32|     null|       904|\n",
            "|   5792800|10.32|     null|       796|\n",
            "|   5751383|10.32|      uno|       788|\n",
            "|   5815662| 0.92|     null|       773|\n",
            "|   5809912| 5.24|  grattol|       770|\n",
            "|   5686925| 0.35|     null|       751|\n",
            "|      5304| 0.32|   runail|       729|\n",
            "|   5849033|10.32|      uno|       678|\n",
            "|   5687151|  1.9|     null|       563|\n",
            "|      5013| 1.27|   runail|       523|\n",
            "|   5688124| 0.32|     null|       507|\n",
            "|   5528035| 9.52|     null|       483|\n",
            "|   5833330| 0.95|bpw.style|       474|\n",
            "|   5700046|  0.4|   runail|       471|\n",
            "|   5809911| 5.24|  grattol|       465|\n",
            "|   5649219| 7.14|     null|       456|\n",
            "+----------+-----+---------+----------+\n",
            "only showing top 20 rows\n",
            "\n"
          ]
        }
      ],
      "source": [
        "# 10월 코호트의 최다 구매\n",
        "result = spark.sql(\"\"\"\n",
        "WITH stats AS (\n",
        "  SELECT user_id\n",
        "        , product_id\n",
        "        , price\n",
        "        , brand\n",
        "       , DATE_FORMAT(MIN(event_time), 'yyyy-MM-dd') AS first_order_date\n",
        "       , DATE_FORMAT(MAX(event_time), 'yyyy-MM-dd') AS last_order_date\n",
        "  FROM total\n",
        "  WHERE event_type = 'purchase'\n",
        "  GROUP BY user_id, product_id, price, brand\n",
        "), processed AS (\n",
        "  SELECT t.user_id\n",
        "        , t.product_id\n",
        "        , t.price\n",
        "        , t.brand\n",
        "       , DATE_FORMAT(s.first_order_date, 'yyyy-MM-01') AS first_order_month\n",
        "       , DATE_FORMAT(t.event_time, 'yyyy-MM-dd') AS order_date\n",
        "       , s.first_order_date\n",
        "  FROM total t\n",
        "    INNER JOIN stats s ON t.user_id = s.user_id AND t.event_type = 'purchase'\n",
        ")\n",
        "SELECT product_id\n",
        "      , price\n",
        "      , brand\n",
        "      , COUNT(DISTINCT user_id) AS user_count\n",
        "FROM processed\n",
        "WHERE first_order_month = '2019-10-01'\n",
        "GROUP BY product_id, price, brand\n",
        "ORDER BY user_count DESC;\n",
        "\"\"\")\n",
        "result.show()"
      ]
    },
    {
      "cell_type": "code",
      "execution_count": null,
      "metadata": {
        "colab": {
          "background_save": true
        },
        "id": "qXpaVIRzxarE",
        "outputId": "fb24f38f-d9be-4419-9d06-a36176a31178"
      },
      "outputs": [
        {
          "name": "stdout",
          "output_type": "stream",
          "text": [
            "+----------+-----+--------+---------+\n",
            "|product_id|price|   brand|product_c|\n",
            "+----------+-----+--------+---------+\n",
            "|   5810157| 1.43|   irisk|        1|\n",
            "|   5854574|21.43|jessnail|        1|\n",
            "|   5676826| 4.29|   estel|        1|\n",
            "|   5869121|15.56|    oniq|        1|\n",
            "|   5823937|94.44| polarus|        1|\n",
            "|   5859398| 6.33| lianail|        1|\n",
            "|   5798924| 3.97|  zinger|        1|\n",
            "|   5811649| 2.48|   irisk|        1|\n",
            "|   5836515| 0.08|nagaraku|        1|\n",
            "|   5785197| 9.51| markell|        1|\n",
            "|   5881615|12.56|  lovely|        1|\n",
            "|   5787899| 4.29|  uskusi|        1|\n",
            "|   5723511| 2.62|  runail|        1|\n",
            "|   5677986| 7.14|   estel|        1|\n",
            "|   5867123| 2.83|   domix|        1|\n",
            "|   5804045| 3.97| bluesky|        1|\n",
            "|   5774328| 3.81|  runail|        1|\n",
            "|   5564074| 2.38|ingarden|        1|\n",
            "|   5866963|66.67|   sunuv|        1|\n",
            "|   5830525| 3.95|  masura|        1|\n",
            "+----------+-----+--------+---------+\n",
            "only showing top 20 rows\n",
            "\n"
          ]
        }
      ],
      "source": [
        "# 10월 코호트의 10월 구매 item 확인\n",
        "result = spark.sql(\"\"\"\n",
        "WITH stats AS (\n",
        "  SELECT user_id\n",
        "        , product_id\n",
        "        , price\n",
        "        , brand\n",
        "       , DATE_FORMAT(MIN(event_time), 'yyyy-MM-dd') AS first_order_date\n",
        "       , DATE_FORMAT(MAX(event_time), 'yyyy-MM-dd') AS last_order_date\n",
        "  FROM total\n",
        "  WHERE event_type = 'purchase'\n",
        "  GROUP BY user_id, product_id, price, brand\n",
        "), processed AS (\n",
        "  SELECT t.user_id\n",
        "        , t.product_id\n",
        "        , t.price\n",
        "        , t.brand\n",
        "       , DATE_FORMAT(s.first_order_date, 'yyyy-MM-01') AS first_order_month\n",
        "       , DATE_FORMAT(t.event_time, 'yyyy-MM-dd') AS order_date\n",
        "       , s.first_order_date\n",
        "  FROM total t\n",
        "    INNER JOIN stats s ON t.user_id = s.user_id AND t.event_type = 'purchase'\n",
        ")\n",
        "SELECT product_id\n",
        "      , price\n",
        "      , brand\n",
        "      , COUNT(DISTINCT product_id) AS product_c\n",
        "FROM processed\n",
        "WHERE first_order_month = '2019-10-01'\n",
        "GROUP BY product_id, price, brand\n",
        "ORDER BY product_c DESC;\n",
        "\"\"\")\n",
        "result.show()"
      ]
    },
    {
      "cell_type": "code",
      "execution_count": null,
      "metadata": {
        "colab": {
          "base_uri": "https://localhost:8080/"
        },
        "id": "VpLeYDnn5mCZ",
        "outputId": "68c08a03-b542-4767-9008-53a876e53f5d"
      },
      "outputs": [
        {
          "name": "stdout",
          "output_type": "stream",
          "text": [
            "+----------+-----+---------+----------+\n",
            "|product_id|price|    brand|user_count|\n",
            "+----------+-----+---------+----------+\n",
            "|   5809910| 5.24|  grattol|      1298|\n",
            "|   5854897| 0.32|    irisk|      1095|\n",
            "|   5700037|  0.4|   runail|       954|\n",
            "|   5751422|10.95|      uno|       953|\n",
            "|   5802432| 0.32|     null|       904|\n",
            "|   5792800|10.32|     null|       796|\n",
            "|   5751383|10.32|      uno|       788|\n",
            "|   5815662| 0.92|     null|       773|\n",
            "|   5809912| 5.24|  grattol|       770|\n",
            "|   5686925| 0.35|     null|       751|\n",
            "|      5304| 0.32|   runail|       729|\n",
            "|   5849033|10.32|      uno|       678|\n",
            "|   5687151|  1.9|     null|       563|\n",
            "|      5013| 1.27|   runail|       523|\n",
            "|   5688124| 0.32|     null|       507|\n",
            "|   5528035| 9.52|     null|       483|\n",
            "|   5833330| 0.95|bpw.style|       474|\n",
            "|   5700046|  0.4|   runail|       471|\n",
            "|   5809911| 5.24|  grattol|       465|\n",
            "|   5649219| 7.14|     null|       456|\n",
            "+----------+-----+---------+----------+\n",
            "only showing top 20 rows\n",
            "\n"
          ]
        }
      ],
      "source": [
        "result = spark.sql(\"\"\"\n",
        "WITH stats AS (\n",
        " SELECT user_id\n",
        "        , product_id\n",
        "        , price\n",
        "        , brand\n",
        "       , DATE_FORMAT(MIN(event_time), 'yyyy-MM-dd') AS first_order_date\n",
        "       , DATE_FORMAT(MAX(event_time), 'yyyy-MM-dd') AS last_order_date\n",
        "  FROM total\n",
        "  WHERE event_type = 'purchase'\n",
        "  GROUP BY user_id, product_id, price, brand\n",
        "),\n",
        "processed AS (\n",
        "  SELECT t.user_id\n",
        "        , t.product_id\n",
        "        , t.price\n",
        "        , t.brand\n",
        "        , DATE_FORMAT(s.first_order_date, 'yyyy-MM-01') AS first_order_month\n",
        "        , DATE_FORMAT(t.event_time, 'yyyy-MM-dd') AS order_date\n",
        "        , s.first_order_date\n",
        "  FROM total t\n",
        "    INNER JOIN stats s ON t.user_id = s.user_id AND t.event_type = 'purchase'\n",
        ")\n",
        "SELECT product_id\n",
        "      , price\n",
        "      , brand\n",
        "      , COUNT(DISTINCT user_id) AS user_count\n",
        "FROM processed\n",
        "WHERE first_order_month = '2019-10-01'\n",
        "GROUP BY product_id, price, brand\n",
        "ORDER BY user_count DESC;\n",
        "\n",
        "\"\"\")\n",
        "result.show()"
      ]
    },
    {
      "cell_type": "code",
      "execution_count": null,
      "metadata": {
        "colab": {
          "base_uri": "https://localhost:8080/"
        },
        "id": "mMUVKVw_7h6L",
        "outputId": "188fc3ba-374d-41ce-e8f4-3d5e7de9e91d"
      },
      "outputs": [
        {
          "name": "stdout",
          "output_type": "stream",
          "text": [
            "+---------+----------+-----+----------+----------------+\n",
            "|  user_id|product_id|price|     brand|first_order_date|\n",
            "+---------+----------+-----+----------+----------------+\n",
            "|255774180|   5802162|23.81|   italwax|      2019-10-23|\n",
            "|271555056|   5849033|10.32|       uno|      2019-10-14|\n",
            "|297933754|   5855507|79.21|       max|      2019-10-11|\n",
            "|301930560|   5871037| 3.89|  siberina|      2019-10-20|\n",
            "|339640418|   5848895| 0.79| bpw.style|      2019-10-08|\n",
            "|372246203|   5816171| 5.24|   grattol|      2019-10-07|\n",
            "|374798083|   5743974| 1.98|   italwax|      2019-10-02|\n",
            "|377153707|   5820270|26.83|       uno|      2019-10-28|\n",
            "|386627935|   5818359| 2.14|igrobeauty|      2019-10-24|\n",
            "|392293132|      6691| 0.87|    runail|      2019-10-23|\n",
            "|407591551|   5809911| 5.24|   grattol|      2019-10-30|\n",
            "|408963779|   5739056| 6.27|    kapous|      2019-10-16|\n",
            "|414072562|     58865| 1.27|    runail|      2019-10-29|\n",
            "|446496752|   5804261|15.71|       cnd|      2019-10-26|\n",
            "|459529883|   5783524| 6.03|     shary|      2019-10-03|\n",
            "|461188582|   5830562| 1.73|    masura|      2019-10-12|\n",
            "|464557213|   5793703| 2.22|     irisk|      2019-10-07|\n",
            "|473682329|   5659772| 0.95|  airnails|      2019-10-01|\n",
            "|474368725|   5659753| 0.95|     irisk|      2019-10-20|\n",
            "|474368725|   5813486| 1.73|    masura|      2019-10-30|\n",
            "+---------+----------+-----+----------+----------------+\n",
            "only showing top 20 rows\n",
            "\n"
          ]
        }
      ],
      "source": [
        "# 10월 코호트 구매리스트 뽑기\n",
        "result = spark.sql(\"\"\"\n",
        "SELECT user_id\n",
        "        , product_id\n",
        "        , price\n",
        "        , brand\n",
        "       , DATE_FORMAT(MIN(event_time), 'yyyy-MM-dd') AS first_order_date\n",
        "FROM total\n",
        "WHERE event_type = 'purchase' AND event_time <= '2019-10-31'\n",
        "GROUP BY user_id, product_id, price, brand;\n",
        "\"\"\")\n",
        "result.show()"
      ]
    },
    {
      "cell_type": "code",
      "execution_count": null,
      "metadata": {
        "colab": {
          "base_uri": "https://localhost:8080/"
        },
        "id": "QMetuXHi_oR-",
        "outputId": "156035fc-0f05-4a12-a400-f402761eb6e5"
      },
      "outputs": [
        {
          "name": "stdout",
          "output_type": "stream",
          "text": [
            "+---------+-----------------+\n",
            "|    brand|brand_sales_count|\n",
            "+---------+-----------------+\n",
            "|     null|            95014|\n",
            "|   runail|            20733|\n",
            "|    irisk|            14664|\n",
            "|   masura|            10496|\n",
            "|bpw.style|             9131|\n",
            "|  grattol|             5998|\n",
            "| ingarden|             4888|\n",
            "|  italwax|             3307|\n",
            "|     pole|             3271|\n",
            "|    estel|             3059|\n",
            "|      uno|             2990|\n",
            "|   kapous|             2917|\n",
            "|    domix|             2633|\n",
            "|  bluesky|             2418|\n",
            "|freedecor|             2392|\n",
            "|     milv|             2292|\n",
            "| haruyama|             2284|\n",
            "|      cnd|             2193|\n",
            "|   zinger|             1870|\n",
            "|  concept|             1764|\n",
            "+---------+-----------------+\n",
            "only showing top 20 rows\n",
            "\n"
          ]
        }
      ],
      "source": [
        "# 10월 코호트 구매 리스트에서 브랜드별 총판매수\n",
        "result = spark.sql(\"\"\"\n",
        "WITH first_orders AS (\n",
        "  SELECT user_id\n",
        "        , product_id\n",
        "        , price\n",
        "        , brand\n",
        "        , MIN(event_time) AS first_order_time\n",
        "  FROM total\n",
        "  WHERE event_type = 'purchase' AND event_time <= '2019-10-31'\n",
        "  GROUP BY user_id, product_id, price, brand\n",
        ")\n",
        "SELECT brand\n",
        "      , COUNT(*) AS brand_sales_count\n",
        "FROM first_orders\n",
        "GROUP BY brand\n",
        "ORDER BY brand_sales_count DESC;\n",
        "\n",
        "\"\"\")\n",
        "result.show()"
      ]
    },
    {
      "cell_type": "code",
      "source": [
        "result = spark.sql(\"\"\"\n",
        "WITH stats AS (\n",
        "  SELECT user_id\n",
        "       , product_id\n",
        "       , price\n",
        "       , brand\n",
        "       , DATE_FORMAT(MIN(event_time), 'yyyy-MM-dd') AS first_order_date\n",
        "       , DATE_FORMAT(MAX(event_time), 'yyyy-MM-dd') AS last_order_date\n",
        "  FROM total\n",
        "  WHERE event_type = 'purchase'\n",
        "  GROUP BY user_id, product_id, price, brand\n",
        "), processed AS (\n",
        "  SELECT t.user_id\n",
        "        , t.product_id\n",
        "        , t.price\n",
        "        , t.brand\n",
        "       , DATE_FORMAT(s.first_order_date, 'yyyy-MM-01') AS first_order_month\n",
        "       , DATE_FORMAT(t.event_time, 'yyyy-MM-dd') AS order_date\n",
        "       , first_order_date\n",
        "  FROM total t\n",
        "    INNER JOIN stats s ON t.user_id = s.user_id AND t.event_type = 'purchase'\n",
        ")\n",
        "SELECT first_order_month\n",
        "     , COUNT(DISTINCT user_id) AS day0\n",
        "\n",
        "\n",
        "FROM processed\n",
        "WHERE first_order_month = '2019-10-01'\n",
        "GROUP BY first_order_month\n",
        "\"\"\")\n",
        "result.show()"
      ],
      "metadata": {
        "colab": {
          "base_uri": "https://localhost:8080/"
        },
        "id": "TEkSlz94e1CT",
        "outputId": "7d54c8c8-60be-43b7-e4ba-29e873be7a08"
      },
      "execution_count": null,
      "outputs": [
        {
          "output_type": "stream",
          "name": "stdout",
          "text": [
            "+-----------------+-----+\n",
            "|first_order_month| day0|\n",
            "+-----------------+-----+\n",
            "|       2019-10-01|25762|\n",
            "+-----------------+-----+\n",
            "\n"
          ]
        }
      ]
    },
    {
      "cell_type": "code",
      "source": [
        "result = spark.sql(\"\"\"\n",
        "WITH stats AS (\n",
        "  SELECT user_id\n",
        "       , product_id\n",
        "       , price\n",
        "       , brand\n",
        "       , DATE_FORMAT(MIN(event_time), 'yyyy-MM-dd') AS first_order_date\n",
        "       , DATE_FORMAT(MAX(event_time), 'yyyy-MM-dd') AS last_order_date\n",
        "  FROM total\n",
        "  WHERE event_type = 'purchase'\n",
        "  GROUP BY user_id, product_id, price, brand\n",
        "), processed AS (\n",
        "  SELECT t.user_id\n",
        "        , t.product_id\n",
        "        , t.price\n",
        "        , t.brand\n",
        "       , DATE_FORMAT(s.first_order_date, 'yyyy-MM-01') AS first_order_month\n",
        "       , DATE_FORMAT(t.event_time, 'yyyy-MM-dd') AS order_date\n",
        "       , first_order_date\n",
        "  FROM total t\n",
        "    INNER JOIN stats s ON t.user_id = s.user_id AND t.event_type = 'purchase'\n",
        "  WHERE order_date <= '2019-10-31'\n",
        ")\n",
        "SELECT order_date\n",
        "     ,product_id\n",
        "     , price\n",
        "     , brand\n",
        "     , COUNT(DISTINCT product_id) AS pd\n",
        "FROM processed\n",
        "WHERE order_date <= '2019-10-31'\n",
        "GROUP BY order_date, product_id, price, brand\n",
        "\"\"\")\n",
        "result.show()"
      ],
      "metadata": {
        "colab": {
          "base_uri": "https://localhost:8080/"
        },
        "id": "Q7MSBFyNwp94",
        "outputId": "e26f6510-c1d1-4ab5-a155-3d7efe845ac4"
      },
      "execution_count": null,
      "outputs": [
        {
          "output_type": "stream",
          "name": "stdout",
          "text": [
            "+----------+----------+-----+---------+---+\n",
            "|order_date|product_id|price|    brand| pd|\n",
            "+----------+----------+-----+---------+---+\n",
            "|2019-10-12|   5830533| 1.73|   masura|  1|\n",
            "|2019-10-04|   5700035|  0.4|   runail|  1|\n",
            "|2019-10-22|   5839650| 2.37|   masura|  1|\n",
            "|2019-10-25|   5809270| 1.43|bpw.style|  1|\n",
            "|2019-10-22|     36549| 5.08| ingarden|  1|\n",
            "|2019-10-10|   5779806| 4.11|     pole|  1|\n",
            "|2019-10-15|     19162|10.29|      cnd|  1|\n",
            "|2019-10-12|   5692024| 5.32|  concept|  1|\n",
            "|2019-10-16|      5581| 0.56|   entity|  1|\n",
            "|2019-10-14|   5659645| 0.95| airnails|  1|\n",
            "|2019-10-16|   5782125| 4.11|     pole|  1|\n",
            "|2019-10-29|   5816170| 5.24|  grattol|  1|\n",
            "|2019-10-29|   5678037| 7.14|    estel|  1|\n",
            "|2019-10-28|   5859407| 2.37|   masura|  1|\n",
            "|2019-10-09|   5786767| 5.54|  lianail|  1|\n",
            "|2019-10-07|   5829347| 0.63| farmstay|  1|\n",
            "|2019-10-17|   5677245|  7.7|    estel|  1|\n",
            "|2019-10-27|   5724647| 2.48|    irisk|  1|\n",
            "|2019-10-07|      4958| 1.19|   runail|  1|\n",
            "|2019-10-12|   5864643|  1.9|bpw.style|  1|\n",
            "+----------+----------+-----+---------+---+\n",
            "only showing top 20 rows\n",
            "\n"
          ]
        }
      ]
    },
    {
      "cell_type": "code",
      "source": [
        "result = spark.sql(\"\"\"\n",
        "WITH stats AS (\n",
        "  SELECT user_id\n",
        "       , product_id\n",
        "       , price\n",
        "       , brand\n",
        "       , DATE_FORMAT(MIN(event_time), 'yyyy-MM-dd') AS first_order_date\n",
        "       , DATE_FORMAT(MAX(event_time), 'yyyy-MM-dd') AS last_order_date\n",
        "  FROM total\n",
        "  WHERE event_type = 'purchase'\n",
        "  GROUP BY user_id, product_id, price, brand\n",
        "), processed AS (\n",
        "  SELECT t.user_id\n",
        "        , t.product_id\n",
        "        , t.price\n",
        "        , t.brand\n",
        "        , DATE_FORMAT(s.first_order_date, 'yyyy-MM-01') AS first_order_month\n",
        "        , DATE_FORMAT(t.event_time, 'yyyy-MM-dd') AS order_date\n",
        "        , s.first_order_date\n",
        "  FROM total t\n",
        "    INNER JOIN stats s ON t.user_id = s.user_id AND t.event_type = 'purchase'\n",
        "  WHERE DATE_FORMAT(t.event_time, 'yyyy-MM-dd') <= '2019-10-31'\n",
        ")\n",
        "SELECT product_id\n",
        "     , price\n",
        "     , brand\n",
        "     , COUNT(DISTINCT user_id) AS pd\n",
        "FROM processed\n",
        "GROUP BY product_id, price, brand\n",
        "ORDER BY pd DESC\n",
        "\"\"\")\n",
        "result.show()"
      ],
      "metadata": {
        "colab": {
          "base_uri": "https://localhost:8080/"
        },
        "id": "R3EypJ1azn1J",
        "outputId": "81d70d2a-00c6-40ea-be45-05ce2132a3a0"
      },
      "execution_count": null,
      "outputs": [
        {
          "output_type": "stream",
          "name": "stdout",
          "text": [
            "+----------+-----+---------+---+\n",
            "|product_id|price|    brand| pd|\n",
            "+----------+-----+---------+---+\n",
            "|   5854897| 0.32|    irisk|672|\n",
            "|   5700037|  0.4|   runail|671|\n",
            "|   5751422|10.95|      uno|619|\n",
            "|   5802432| 0.32|     null|612|\n",
            "|   5686925| 0.35|     null|565|\n",
            "|   5792800|10.32|     null|556|\n",
            "|   5751383|10.32|      uno|540|\n",
            "|      5304| 0.32|   runail|509|\n",
            "|   5815662| 0.92|     null|475|\n",
            "|   5688124| 0.32|     null|448|\n",
            "|   5849033|10.32|      uno|421|\n",
            "|   5528035| 9.52|     null|379|\n",
            "|      5013| 1.27|   runail|352|\n",
            "|   5729864| 0.41|     null|345|\n",
            "|   5833334| 0.79|bpw.style|335|\n",
            "|   5759492| 2.37|  italwax|326|\n",
            "|   5700046|  0.4|   runail|323|\n",
            "|   5809912| 5.24|  grattol|322|\n",
            "|      5581| 0.56|   entity|318|\n",
            "|   5809910| 5.24|  grattol|302|\n",
            "+----------+-----+---------+---+\n",
            "only showing top 20 rows\n",
            "\n"
          ]
        }
      ]
    },
    {
      "cell_type": "code",
      "source": [
        "# 10월 코호트의 상품 구매리스트에서 최다 구매 상품 추출\n",
        "# 근데 문제는 1400\n",
        "result = spark.sql(\"\"\"\n",
        "WITH stats AS (\n",
        "  SELECT user_id\n",
        "       , product_id\n",
        "       , price\n",
        "       , brand\n",
        "       , DATE_FORMAT(MIN(event_time), 'yyyy-MM-dd') AS first_order_date\n",
        "       , DATE_FORMAT(MAX(event_time), 'yyyy-MM-dd') AS last_order_date\n",
        "  FROM total\n",
        "  WHERE event_type = 'purchase'\n",
        "  GROUP BY user_id, product_id, price, brand\n",
        "), processed AS (\n",
        "  SELECT t.user_id\n",
        "        , t.product_id\n",
        "        , t.price\n",
        "        , t.brand\n",
        "        , DATE_FORMAT(s.first_order_date, 'yyyy-MM-01') AS first_order_month\n",
        "        , DATE_FORMAT(t.event_time, 'yyyy-MM-dd') AS order_date\n",
        "        , s.first_order_date\n",
        "  FROM total t\n",
        "    INNER JOIN stats s ON t.user_id = s.user_id AND t.event_type = 'purchase'\n",
        "  WHERE DATE_FORMAT(s.first_order_date, 'yyyy-MM-01') = '2019-10-01'\n",
        ")\n",
        "SELECT product_id\n",
        "     , price\n",
        "     , brand\n",
        "     , COUNT(DISTINCT user_id) AS pd\n",
        "FROM processed\n",
        "GROUP BY product_id, price, brand\n",
        "ORDER BY pd DESC\n",
        "\"\"\")\n",
        "result.show()"
      ],
      "metadata": {
        "colab": {
          "base_uri": "https://localhost:8080/"
        },
        "id": "E5HV6CLZ3Fzz",
        "outputId": "d8459578-cddc-466d-9be3-eb871fb38c78"
      },
      "execution_count": null,
      "outputs": [
        {
          "output_type": "stream",
          "name": "stdout",
          "text": [
            "+----------+-----+---------+----+\n",
            "|product_id|price|    brand|  pd|\n",
            "+----------+-----+---------+----+\n",
            "|   5809910| 5.24|  grattol|1298|\n",
            "|   5854897| 0.32|    irisk|1095|\n",
            "|   5700037|  0.4|   runail| 954|\n",
            "|   5751422|10.95|      uno| 953|\n",
            "|   5802432| 0.32|     null| 904|\n",
            "|   5792800|10.32|     null| 796|\n",
            "|   5751383|10.32|      uno| 788|\n",
            "|   5815662| 0.92|     null| 773|\n",
            "|   5809912| 5.24|  grattol| 770|\n",
            "|   5686925| 0.35|     null| 751|\n",
            "|      5304| 0.32|   runail| 729|\n",
            "|   5849033|10.32|      uno| 678|\n",
            "|   5687151|  1.9|     null| 563|\n",
            "|      5013| 1.27|   runail| 523|\n",
            "|   5688124| 0.32|     null| 507|\n",
            "|   5528035| 9.52|     null| 483|\n",
            "|   5833330| 0.95|bpw.style| 474|\n",
            "|   5700046|  0.4|   runail| 471|\n",
            "|   5809911| 5.24|  grattol| 465|\n",
            "|   5649219| 7.14|     null| 456|\n",
            "+----------+-----+---------+----+\n",
            "only showing top 20 rows\n",
            "\n"
          ]
        }
      ]
    },
    {
      "cell_type": "markdown",
      "source": [
        "### 1월 코호트"
      ],
      "metadata": {
        "id": "H3_ltfdiaq7g"
      }
    },
    {
      "cell_type": "code",
      "source": [
        "# 1월 코호트의 상품 구매리스트에서 최다 구매 상품 추출\n",
        "result = spark.sql(\"\"\"\n",
        "WITH stats AS (\n",
        "  SELECT user_id\n",
        "       , product_id\n",
        "       , price\n",
        "       , brand\n",
        "       , DATE_FORMAT(MIN(event_time), 'yyyy-MM-dd') AS first_order_date\n",
        "       , DATE_FORMAT(MAX(event_time), 'yyyy-MM-dd') AS last_order_date\n",
        "  FROM total\n",
        "  WHERE event_type = 'purchase'\n",
        "  GROUP BY user_id, product_id, price, brand\n",
        "), processed AS (\n",
        "  SELECT t.user_id\n",
        "        , t.product_id\n",
        "        , t.price\n",
        "        , t.brand\n",
        "        , DATE_FORMAT(s.first_order_date, 'yyyy-MM-01') AS first_order_month\n",
        "        , DATE_FORMAT(t.event_time, 'yyyy-MM-dd') AS order_date\n",
        "        , s.first_order_date\n",
        "  FROM total t\n",
        "    INNER JOIN stats s ON t.user_id = s.user_id AND t.event_type = 'purchase'\n",
        "  WHERE DATE_FORMAT(s.first_order_date, 'yyyy-MM-01') = '2020-01-01'\n",
        ")\n",
        "SELECT  product_id\n",
        "     , price\n",
        "     , brand\n",
        "     , COUNT(DISTINCT user_id) AS pd\n",
        "FROM processed\n",
        "GROUP BY product_id, price, brand\n",
        "ORDER BY pd DESC\n",
        "\"\"\")\n",
        "result.show()"
      ],
      "metadata": {
        "colab": {
          "base_uri": "https://localhost:8080/"
        },
        "id": "GAZk-qHG35DB",
        "outputId": "421bc8c8-02f2-4a16-b32f-73358ae5d330"
      },
      "execution_count": null,
      "outputs": [
        {
          "output_type": "stream",
          "name": "stdout",
          "text": [
            "+----------+-----+-------+----+\n",
            "|product_id|price|  brand|  pd|\n",
            "+----------+-----+-------+----+\n",
            "|   5809910| 5.24|grattol|2716|\n",
            "|   5854897| 0.32|  irisk|1520|\n",
            "|   5809912| 5.24|grattol|1301|\n",
            "|   5700037|  0.4| runail|1141|\n",
            "|   5686925| 0.35|   null|1123|\n",
            "|   5751422|10.95|    uno|1107|\n",
            "|   5815662| 0.92|   null|1042|\n",
            "|   5802432| 0.32|   null|1024|\n",
            "|      5304| 0.32| runail| 925|\n",
            "|   5792800|10.32|   null| 892|\n",
            "|   5751383|10.32|    uno| 881|\n",
            "|   5849033|10.32|    uno| 857|\n",
            "|   5816170| 5.24|grattol| 717|\n",
            "|   5687151|  1.9|   null| 693|\n",
            "|   5809911| 5.24|grattol| 648|\n",
            "|   5843836| 0.38|   null| 615|\n",
            "|      5013| 1.27| runail| 606|\n",
            "|   5793704| 2.38|  irisk| 559|\n",
            "|   5561044|  3.0|   null| 544|\n",
            "|   5528035| 9.52|   null| 524|\n",
            "+----------+-----+-------+----+\n",
            "only showing top 20 rows\n",
            "\n"
          ]
        }
      ]
    },
    {
      "cell_type": "markdown",
      "source": [
        "### final query"
      ],
      "metadata": {
        "id": "BbpVPEeMLdv-"
      }
    },
    {
      "cell_type": "code",
      "source": [
        "# 10월 코호트의 상품 구매리스트에서 최다 구매 상품 추출\n",
        "result = spark.sql(\"\"\"\n",
        "WITH purch_list AS (\n",
        "  SELECT event_time\n",
        "      , product_id\n",
        "      , brand\n",
        "      , price\n",
        "      , DATE_FORMAT(event_time, 'yyyy-MM-dd') AS time_format\n",
        "      , DATE_FORMAT(MIN(event_time) OVER (PARTITION BY user_id), 'yyyy-MM-dd') AS first_order\n",
        "  FROM total\n",
        "  WHERE event_type = 'purchase'\n",
        ")\n",
        "SELECT product_id\n",
        "    , brand\n",
        "    , price\n",
        "    , COUNT(*) AS sold\n",
        "FROM purch_list\n",
        "WHERE DATE_FORMAT(first_order, 'yyyy-MM') = '2019-10'\n",
        "GROUP BY product_id, brand, price\n",
        "ORDER BY sold DESC;\n",
        "\"\"\")\n",
        "result.show()"
      ],
      "metadata": {
        "colab": {
          "base_uri": "https://localhost:8080/"
        },
        "id": "Ltc3-7nsIr9o",
        "outputId": "23dbe87c-4296-4c65-ada6-02680a779796"
      },
      "execution_count": null,
      "outputs": [
        {
          "output_type": "stream",
          "name": "stdout",
          "text": [
            "+----------+---------+-----+----+\n",
            "|product_id|    brand|price|sold|\n",
            "+----------+---------+-----+----+\n",
            "|   5809910|  grattol| 5.24|1428|\n",
            "|   5854897|    irisk| 0.32|1257|\n",
            "|   5751422|      uno|10.95|1251|\n",
            "|   5700037|   runail|  0.4|1158|\n",
            "|   5802432|     null| 0.32|1105|\n",
            "|   5792800|     null|10.32|1047|\n",
            "|   5849033|      uno|10.32| 991|\n",
            "|   5751383|      uno|10.32| 969|\n",
            "|   5815662|     null| 0.92| 932|\n",
            "|   5686925|     null| 0.35| 844|\n",
            "|   5809912|  grattol| 5.24| 826|\n",
            "|      5304|   runail| 0.32| 778|\n",
            "|   5700046|   runail|  0.4| 640|\n",
            "|   5528035|     null| 9.52| 632|\n",
            "|   5687151|     null|  1.9| 615|\n",
            "|      5013|   runail| 1.27| 574|\n",
            "|   5688124|     null| 0.32| 543|\n",
            "|   5793704|    irisk| 2.38| 499|\n",
            "|   5833330|bpw.style| 0.95| 498|\n",
            "|   5649219|     null| 7.14| 496|\n",
            "+----------+---------+-----+----+\n",
            "only showing top 20 rows\n",
            "\n"
          ]
        }
      ]
    },
    {
      "cell_type": "code",
      "source": [
        "# 1월 코호트의 상품 구매리스트에서 최다 구매 상품 추출\n",
        "# count(id)로 함\n",
        "result = spark.sql(\"\"\"\n",
        "WITH purch_list AS (\n",
        "  SELECT event_time\n",
        "      , product_id\n",
        "      , brand\n",
        "      , price\n",
        "      , DATE_FORMAT(event_time, 'yyyy-MM-dd') AS time_format\n",
        "      , DATE_FORMAT(MIN(event_time) OVER (PARTITION BY user_id), 'yyyy-MM-dd') as first_order\n",
        "  FROM total\n",
        "  WHERE event_type = 'purchase'\n",
        ")\n",
        "SELECT product_id\n",
        "    , brand\n",
        "    , price\n",
        "    , COUNT(*) as sold\n",
        "FROM purch_list\n",
        "WHERE DATE_FORMAT(first_order, 'yyyy-MM') = '2020-01'\n",
        "GROUP BY product_id, brand, price\n",
        "ORDER BY sold DESC;\n",
        "\"\"\")\n",
        "result.show()"
      ],
      "metadata": {
        "colab": {
          "base_uri": "https://localhost:8080/"
        },
        "id": "izDwVOPCKxMS",
        "outputId": "69b321c1-89c0-4550-afc3-3a16317828a1"
      },
      "execution_count": null,
      "outputs": [
        {
          "output_type": "stream",
          "name": "stdout",
          "text": [
            "+----------+--------+-----+----+\n",
            "|product_id|   brand|price|sold|\n",
            "+----------+--------+-----+----+\n",
            "|   5809910| grattol| 5.24|1409|\n",
            "|   5854897|   irisk| 0.32| 792|\n",
            "|   5686925|    null| 0.35| 723|\n",
            "|   5809912| grattol| 5.24| 645|\n",
            "|   5700037|  runail|  0.4| 585|\n",
            "|   5751422|     uno|10.95| 522|\n",
            "|      5304|  runail| 0.32| 516|\n",
            "|   5802432|    null| 0.32| 498|\n",
            "|   5815662|    null| 0.92| 489|\n",
            "|   5751383|     uno|10.32| 435|\n",
            "|   5849033|     uno|10.32| 391|\n",
            "|   5816170| grattol| 5.24| 368|\n",
            "|   5792800|    null|10.32| 360|\n",
            "|   5809911| grattol| 5.24| 319|\n",
            "|   5843836|    null| 0.38| 315|\n",
            "|   5729864|    null| 0.41| 291|\n",
            "|   5687151|    null|  1.9| 285|\n",
            "|      5013|  runail| 1.27| 285|\n",
            "|   5790689|nitrimax| 3.97| 284|\n",
            "|   5528035|    null| 9.52| 271|\n",
            "+----------+--------+-----+----+\n",
            "only showing top 20 rows\n",
            "\n"
          ]
        }
      ]
    },
    {
      "cell_type": "code",
      "source": [
        "# 11월\n",
        "result = spark.sql(\"\"\"\n",
        "WITH purch_list AS (\n",
        "  SELECT event_time\n",
        "      , product_id\n",
        "      , brand\n",
        "      , price\n",
        "      , DATE_FORMAT(event_time, 'yyyy-MM-dd') AS time_format\n",
        "      , DATE_FORMAT(MIN(event_time) OVER (PARTITION BY user_id), 'yyyy-MM-dd') as first_order\n",
        "  FROM total\n",
        "  WHERE event_type = 'purchase'\n",
        ")\n",
        "SELECT product_id\n",
        "    , brand\n",
        "    , price\n",
        "    , COUNT(*) as sold\n",
        "FROM purch_list\n",
        "WHERE DATE_FORMAT(first_order, 'yyyy-MM') = '2019-11'\n",
        "GROUP BY product_id, brand, price\n",
        "ORDER BY sold DESC;\n",
        "\"\"\")\n",
        "result.show()"
      ],
      "metadata": {
        "colab": {
          "base_uri": "https://localhost:8080/"
        },
        "id": "JA199VnypcPv",
        "outputId": "3aafea99-c5c0-4786-cd42-da8f4308d66b"
      },
      "execution_count": null,
      "outputs": [
        {
          "output_type": "stream",
          "name": "stdout",
          "text": [
            "+----------+---------+-----+----+\n",
            "|product_id|    brand|price|sold|\n",
            "+----------+---------+-----+----+\n",
            "|   5809910|  grattol| 5.24|1522|\n",
            "|   5802432|     null| 0.32| 866|\n",
            "|   5854897|    irisk| 0.32| 837|\n",
            "|   5700037|   runail|  0.4| 663|\n",
            "|   5815662|     null| 0.92| 651|\n",
            "|   5751422|      uno|10.95| 630|\n",
            "|   5809912|  grattol| 5.24| 619|\n",
            "|      5304|   runail| 0.32| 617|\n",
            "|   5751383|      uno|10.32| 563|\n",
            "|   5792800|     null|10.32| 509|\n",
            "|   5849033|      uno|10.32| 499|\n",
            "|   5686925|     null| 0.35| 499|\n",
            "|   5833330|bpw.style| 0.95| 420|\n",
            "|   5809910|  grattol| 4.86| 415|\n",
            "|   5816170|  grattol| 5.24| 394|\n",
            "|   5833330|bpw.style| 0.81| 387|\n",
            "|   5687151|     null|  1.9| 379|\n",
            "|   5854897|    irisk|  0.3| 374|\n",
            "|   5843836|     null| 0.38| 345|\n",
            "|   5833326|bpw.style| 1.59| 337|\n",
            "+----------+---------+-----+----+\n",
            "only showing top 20 rows\n",
            "\n"
          ]
        }
      ]
    },
    {
      "cell_type": "code",
      "source": [
        "# 12월\n",
        "result = spark.sql(\"\"\"\n",
        "WITH purch_list AS (\n",
        "  SELECT event_time\n",
        "      , product_id\n",
        "      , brand\n",
        "      , price\n",
        "      , DATE_FORMAT(event_time, 'yyyy-MM-dd') AS time_format\n",
        "      , DATE_FORMAT(MIN(event_time) OVER (PARTITION BY user_id), 'yyyy-MM-dd') as first_order\n",
        "  FROM total\n",
        "  WHERE event_type = 'purchase'\n",
        ")\n",
        "SELECT product_id\n",
        "    , brand\n",
        "    , price\n",
        "    , COUNT(*) as sold\n",
        "FROM purch_list\n",
        "WHERE DATE_FORMAT(first_order, 'yyyy-MM') = '2019-12'\n",
        "GROUP BY product_id, brand, price\n",
        "ORDER BY sold DESC;\n",
        "\"\"\")\n",
        "result.show()"
      ],
      "metadata": {
        "colab": {
          "base_uri": "https://localhost:8080/"
        },
        "id": "HzoLt-mCpxKA",
        "outputId": "b04e01c1-8763-48ff-cb64-53e4cd0f4947"
      },
      "execution_count": null,
      "outputs": [
        {
          "output_type": "stream",
          "name": "stdout",
          "text": [
            "+----------+----------+-----+----+\n",
            "|product_id|     brand|price|sold|\n",
            "+----------+----------+-----+----+\n",
            "|   5809910|   grattol| 5.24|1393|\n",
            "|   5854897|     irisk| 0.32| 700|\n",
            "|   5802432|      null| 0.32| 626|\n",
            "|   5809912|   grattol| 5.24| 522|\n",
            "|   5700037|    runail|  0.4| 509|\n",
            "|      5304|    runail| 0.32| 489|\n",
            "|   5815662|      null| 0.92| 445|\n",
            "|   5751422|       uno|10.95| 421|\n",
            "|   5751383|       uno|10.32| 364|\n",
            "|   5833330| bpw.style| 0.95| 362|\n",
            "|   5809911|   grattol| 5.24| 325|\n",
            "|   5849033|       uno|10.32| 317|\n",
            "|   5792800|      null|10.32| 309|\n",
            "|   5843836|      null| 0.38| 304|\n",
            "|   5528035|      null| 9.52| 286|\n",
            "|   5729864|      null| 0.41| 271|\n",
            "|      5013|    runail| 1.27| 264|\n",
            "|   5759492|   italwax| 2.37| 259|\n",
            "|   5816170|   grattol| 5.24| 250|\n",
            "|   5776130|art-visage| 1.98| 229|\n",
            "+----------+----------+-----+----+\n",
            "only showing top 20 rows\n",
            "\n"
          ]
        }
      ]
    },
    {
      "cell_type": "code",
      "source": [
        "result = spark.sql(\"\"\"\n",
        "WITH purch_list AS (\n",
        "  SELECT product_id\n",
        "      , brand\n",
        "      , price\n",
        "      , event_time\n",
        "      , DATE_FORMAT(event_time, 'yyyy-MM-dd') AS time_format\n",
        "      , DATE_FORMAT(MIN(event_time) OVER (PARTITION BY user_id), 'yyyy-MM-dd') as first_order\n",
        "  FROM total\n",
        "  WHERE event_type = 'purchase'\n",
        ")\n",
        "SELECT product_id\n",
        "    , brand\n",
        "    , price\n",
        "    , COUNT(*) as sold\n",
        "FROM purch_list\n",
        "WHERE DATE_FORMAT(first_order, 'yyyy-MM') = '2020-02'\n",
        "GROUP BY product_id, brand, price\n",
        "ORDER BY sold DESC;\n",
        "\"\"\")\n",
        "result.show()"
      ],
      "metadata": {
        "colab": {
          "base_uri": "https://localhost:8080/"
        },
        "id": "UWYXoQ6sqdPD",
        "outputId": "0b62074c-727a-45fc-f7bb-c0dd03301d6c"
      },
      "execution_count": null,
      "outputs": [
        {
          "output_type": "stream",
          "name": "stdout",
          "text": [
            "+----------+---------+-----+----+\n",
            "|product_id|    brand|price|sold|\n",
            "+----------+---------+-----+----+\n",
            "|   5809910|  grattol| 5.24| 849|\n",
            "|   5854897|    irisk| 0.32| 578|\n",
            "|   5802432|     null| 0.32| 437|\n",
            "|   5700037|   runail|  0.4| 434|\n",
            "|   5815662|     null| 0.92| 404|\n",
            "|      5304|   runail| 0.32| 401|\n",
            "|   5751422|      uno|10.95| 335|\n",
            "|   5809912|  grattol| 5.24| 331|\n",
            "|   5751383|      uno|10.32| 282|\n",
            "|   5849033|      uno|10.32| 242|\n",
            "|   5688124|     null| 0.32| 241|\n",
            "|   5759492|  italwax| 2.37| 225|\n",
            "|   5862943|freedecor| 0.79| 222|\n",
            "|      5013|   runail| 1.27| 222|\n",
            "|   5816170|  grattol| 5.24| 220|\n",
            "|   5843836|     null| 0.38| 216|\n",
            "|   5809911|  grattol| 5.24| 208|\n",
            "|   5729864|     null| 0.41| 199|\n",
            "|   5792800|     null|10.32| 194|\n",
            "|   5815665|     null| 0.67| 192|\n",
            "+----------+---------+-----+----+\n",
            "only showing top 20 rows\n",
            "\n"
          ]
        }
      ]
    },
    {
      "cell_type": "code",
      "source": [
        "# 브랜드별 평균 가격과 전체 판매수\n",
        "result = spark.sql(\"\"\"\n",
        "WITH purch_list AS (\n",
        "  SELECT product_id\n",
        "      , brand\n",
        "      , price\n",
        "  FROM total\n",
        "  WHERE event_type = 'purchase'\n",
        ")\n",
        "SELECT brand\n",
        "    , round(AVG(price),3) AS avg_price\n",
        "    , COUNT(*) AS sold\n",
        "FROM purch_list\n",
        "GROUP BY brand\n",
        "ORDER BY sold DESC;\n",
        "\"\"\")\n",
        "result.show()"
      ],
      "metadata": {
        "colab": {
          "base_uri": "https://localhost:8080/"
        },
        "id": "t7J_VzzGrffb",
        "outputId": "6575da97-aef6-48dc-b32b-ad184bfadfae"
      },
      "execution_count": null,
      "outputs": [
        {
          "output_type": "stream",
          "name": "stdout",
          "text": [
            "+---------+---------+------+\n",
            "|    brand|avg_price|  sold|\n",
            "+---------+---------+------+\n",
            "|     null|    4.666|549567|\n",
            "|   runail|    3.083|111408|\n",
            "|    irisk|    3.034| 73806|\n",
            "|   masura|    2.809| 49751|\n",
            "|  grattol|    5.375| 49542|\n",
            "|bpw.style|    1.176| 37943|\n",
            "| ingarden|    4.546| 27411|\n",
            "|    estel|    6.265| 19438|\n",
            "|      uno|   10.845| 17586|\n",
            "|freedecor|      1.3| 17467|\n",
            "|  italwax|    6.083| 17105|\n",
            "|   kapous|    3.846| 16335|\n",
            "|    domix|    3.852| 12958|\n",
            "|     milv|    1.771| 12691|\n",
            "| haruyama|    3.906| 11582|\n",
            "|     pole|    3.576| 11578|\n",
            "|  bluesky|    4.186| 11509|\n",
            "| jessnail|    13.95|  9661|\n",
            "|  concept|     5.63|  9530|\n",
            "| severina|    2.864|  9173|\n",
            "+---------+---------+------+\n",
            "only showing top 20 rows\n",
            "\n"
          ]
        }
      ]
    },
    {
      "cell_type": "code",
      "source": [
        "# 2019 10월 코호트의 구매리스트에서 판매 상위 브랜드\n",
        "result = spark.sql(\"\"\"\n",
        "WITH purch_list AS (\n",
        "  SELECT event_time\n",
        "      , product_id\n",
        "      , brand\n",
        "      , price\n",
        "      , DATE_FORMAT(event_time, 'yyyy-MM-dd') AS time_format\n",
        "      , DATE_FORMAT(MIN(event_time) OVER (PARTITION BY user_id), 'yyyy-MM-dd') as first_order\n",
        "  FROM total\n",
        "  WHERE event_type = 'purchase'\n",
        ")\n",
        "SELECT brand\n",
        "    , COUNT(*) as sold\n",
        "FROM purch_list\n",
        "WHERE DATE_FORMAT(first_order, 'yyyy-MM') = '2019-10'\n",
        "GROUP BY brand\n",
        "ORDER BY sold DESC;\n",
        "\"\"\")\n",
        "result.show()"
      ],
      "metadata": {
        "colab": {
          "base_uri": "https://localhost:8080/"
        },
        "id": "nqDd2b10Og4M",
        "outputId": "c05221cd-6bfd-4e9b-942c-ffd8d49b1f40"
      },
      "execution_count": null,
      "outputs": [
        {
          "output_type": "stream",
          "name": "stdout",
          "text": [
            "+---------+------+\n",
            "|    brand|  sold|\n",
            "+---------+------+\n",
            "|     null|185717|\n",
            "|   runail| 37726|\n",
            "|    irisk| 25489|\n",
            "|   masura| 17730|\n",
            "|bpw.style| 15896|\n",
            "|  grattol| 15334|\n",
            "| ingarden| 10139|\n",
            "|      uno|  6595|\n",
            "|freedecor|  6145|\n",
            "|    estel|  5450|\n",
            "|     pole|  5094|\n",
            "|   kapous|  5017|\n",
            "|  italwax|  5015|\n",
            "|    domix|  4778|\n",
            "|     milv|  4599|\n",
            "| haruyama|  4379|\n",
            "|  bluesky|  3961|\n",
            "|   zinger|  3385|\n",
            "| jessnail|  3260|\n",
            "|      cnd|  2932|\n",
            "+---------+------+\n",
            "only showing top 20 rows\n",
            "\n"
          ]
        }
      ]
    },
    {
      "cell_type": "code",
      "source": [
        "# 2020 1월 코호트의 구매리스트에서 판매 상위 브랜드\n",
        "result = spark.sql(\"\"\"\n",
        "WITH purch_list AS (\n",
        "  SELECT event_time\n",
        "      , product_id\n",
        "      , brand\n",
        "      , price\n",
        "      , DATE_FORMAT(event_time, 'yyyy-MM-dd') AS time_format\n",
        "      , DATE_FORMAT(MIN(event_time) OVER (PARTITION BY user_id), 'yyyy-MM-dd') as first_order\n",
        "  FROM total\n",
        "  WHERE event_type = 'purchase'\n",
        ")\n",
        "SELECT brand\n",
        "    , COUNT(*) as sold\n",
        "FROM purch_list\n",
        "WHERE DATE_FORMAT(first_order, 'yyyy-MM') = '2020-01'\n",
        "GROUP BY brand\n",
        "ORDER BY sold DESC;\n",
        "\"\"\")\n",
        "result.show()"
      ],
      "metadata": {
        "colab": {
          "base_uri": "https://localhost:8080/"
        },
        "id": "SRqKpIlxNJ9z",
        "outputId": "96c95296-1048-4b55-f9bc-107f829f2c3a"
      },
      "execution_count": null,
      "outputs": [
        {
          "output_type": "stream",
          "name": "stdout",
          "text": [
            "+---------+-----+\n",
            "|    brand| sold|\n",
            "+---------+-----+\n",
            "|     null|80378|\n",
            "|   runail|18902|\n",
            "|    irisk|11314|\n",
            "|   masura| 9015|\n",
            "|  grattol| 8134|\n",
            "| ingarden| 3454|\n",
            "|    estel| 3389|\n",
            "|bpw.style| 3077|\n",
            "|  italwax| 2990|\n",
            "|      uno| 2435|\n",
            "|   kapous| 2403|\n",
            "|freedecor| 2100|\n",
            "|    domix| 1928|\n",
            "|  bluesky| 1833|\n",
            "|     milv| 1640|\n",
            "| severina| 1573|\n",
            "|   zinger| 1516|\n",
            "| haruyama| 1476|\n",
            "| nagaraku| 1352|\n",
            "|  concept| 1324|\n",
            "+---------+-----+\n",
            "only showing top 20 rows\n",
            "\n"
          ]
        }
      ]
    }
  ],
  "metadata": {
    "colab": {
      "provenance": [],
      "authorship_tag": "ABX9TyP/I3UlfdEXZX5E3XP8zho8",
      "include_colab_link": true
    },
    "kernelspec": {
      "display_name": "Python 3",
      "name": "python3"
    },
    "language_info": {
      "name": "python"
    }
  },
  "nbformat": 4,
  "nbformat_minor": 0
}
