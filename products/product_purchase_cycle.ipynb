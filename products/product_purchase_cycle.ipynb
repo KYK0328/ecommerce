{
  "nbformat": 4,
  "nbformat_minor": 0,
  "metadata": {
    "colab": {
      "provenance": [],
      "authorship_tag": "ABX9TyM5F8G5XAJd/bArxZXrz21H"
    },
    "kernelspec": {
      "name": "python3",
      "display_name": "Python 3"
    },
    "language_info": {
      "name": "python"
    }
  },
  "cells": [
    {
      "cell_type": "code",
      "execution_count": 1,
      "metadata": {
        "colab": {
          "base_uri": "https://localhost:8080/"
        },
        "id": "K77EdOmaprmw",
        "outputId": "ed20bf9d-2e45-4cb8-b360-fdda931488c3"
      },
      "outputs": [
        {
          "output_type": "stream",
          "name": "stdout",
          "text": [
            "Mounted at /content/drive\n"
          ]
        }
      ],
      "source": [
        "#구글 드라이브 연동\n",
        "from google.colab import drive\n",
        "drive.mount('/content/drive')"
      ]
    },
    {
      "cell_type": "code",
      "source": [
        "!pip install pyspark"
      ],
      "metadata": {
        "colab": {
          "base_uri": "https://localhost:8080/"
        },
        "id": "KHhJk9xypsJt",
        "outputId": "47b45264-5d73-4498-84e6-bfe9cb94e7cb"
      },
      "execution_count": 2,
      "outputs": [
        {
          "output_type": "stream",
          "name": "stdout",
          "text": [
            "Collecting pyspark\n",
            "  Downloading pyspark-3.5.0.tar.gz (316.9 MB)\n",
            "\u001b[2K     \u001b[90m━━━━━━━━━━━━━━━━━━━━━━━━━━━━━━━━━━━━━━━━\u001b[0m \u001b[32m316.9/316.9 MB\u001b[0m \u001b[31m4.4 MB/s\u001b[0m eta \u001b[36m0:00:00\u001b[0m\n",
            "\u001b[?25h  Preparing metadata (setup.py) ... \u001b[?25l\u001b[?25hdone\n",
            "Requirement already satisfied: py4j==0.10.9.7 in /usr/local/lib/python3.10/dist-packages (from pyspark) (0.10.9.7)\n",
            "Building wheels for collected packages: pyspark\n",
            "  Building wheel for pyspark (setup.py) ... \u001b[?25l\u001b[?25hdone\n",
            "  Created wheel for pyspark: filename=pyspark-3.5.0-py2.py3-none-any.whl size=317425344 sha256=be13a43a686bddd8d662dcf58307e70ed10236d517a06801827a03f4a6c9c65d\n",
            "  Stored in directory: /root/.cache/pip/wheels/41/4e/10/c2cf2467f71c678cfc8a6b9ac9241e5e44a01940da8fbb17fc\n",
            "Successfully built pyspark\n",
            "Installing collected packages: pyspark\n",
            "Successfully installed pyspark-3.5.0\n"
          ]
        }
      ]
    },
    {
      "cell_type": "code",
      "source": [
        "import pyspark\n",
        "from pyspark import SparkConf\n",
        "from pyspark import SparkContext\n",
        "\n",
        "from pyspark.sql import SparkSession\n",
        "from pyspark.sql import SQLContext"
      ],
      "metadata": {
        "id": "qEZz8jJ8psLx"
      },
      "execution_count": 3,
      "outputs": []
    },
    {
      "cell_type": "code",
      "source": [
        "spark = SparkSession.builder.getOrCreate()"
      ],
      "metadata": {
        "id": "rkLERHPBpsOG"
      },
      "execution_count": 4,
      "outputs": []
    },
    {
      "cell_type": "markdown",
      "source": [
        "# 전체데이터 로드"
      ],
      "metadata": {
        "id": "aW1N3CSp2rGl"
      }
    },
    {
      "cell_type": "code",
      "source": [
        "import os\n",
        "os.chdir('/content/drive/MyDrive/ecommerce')"
      ],
      "metadata": {
        "id": "8pL8_pF43C60"
      },
      "execution_count": 6,
      "outputs": []
    },
    {
      "cell_type": "code",
      "source": [
        "new_df = spark.read.option('header', True).option('inferSchema', True).csv('/content/drive/MyDrive/ecommerce/new.csv')\n",
        "new = new_df.createOrReplaceTempView('new')"
      ],
      "metadata": {
        "id": "veExIkkc2ouC"
      },
      "execution_count": 7,
      "outputs": []
    },
    {
      "cell_type": "code",
      "source": [
        "# 컬럼 확인\n",
        "item = spark.sql(\"\"\"\n",
        "SELECT *\n",
        "FROM new\n",
        "limit 10;\n",
        "\"\"\")\n",
        "item.show()"
      ],
      "metadata": {
        "colab": {
          "base_uri": "https://localhost:8080/"
        },
        "id": "UKpVxnTmqDsf",
        "outputId": "c5d56240-deb1-441b-a2d4-04eee458e3f5"
      },
      "execution_count": 8,
      "outputs": [
        {
          "output_type": "stream",
          "name": "stdout",
          "text": [
            "+-------------------+----------+----------+-------------------+-------------+------+-----+-------+------------+\n",
            "|         event_time|event_type|product_id|        category_id|category_code| brand|price|user_id|user_session|\n",
            "+-------------------+----------+----------+-------------------+-------------+------+-----+-------+------------+\n",
            "|2020-01-14 16:15:21|      view|   5865526|1487580008447738866|         NULL|   cnd| 10.0| 465496|           1|\n",
            "|2020-01-14 16:25:35|      view|   5769989|1487580008447738866|         NULL|   cnd| 10.0| 465496|           2|\n",
            "|2020-01-14 16:27:31|      view|   5865524|1487580008447738866|         NULL|   cnd| 10.0| 465496|           2|\n",
            "|2019-12-22 12:50:22|      view|   5746011|1487580009051717646|         NULL|runail|34.92|2963072|          38|\n",
            "|2019-12-22 12:50:45|      view|   5707747|1487580009051717646|         NULL|  NULL|73.02|2963072|          38|\n",
            "|2019-12-22 12:50:58|      view|   5746011|1487580009051717646|         NULL|runail|34.92|2963072|          38|\n",
            "|2019-12-22 12:53:12|      view|   5707747|1487580009051717646|         NULL|  NULL|73.02|2963072|          38|\n",
            "|2019-12-22 12:54:34|      view|   5841190|1487580009051717646|         NULL|  NULL|47.59|2963072|          38|\n",
            "|2019-12-22 12:55:04|      view|   5707747|1487580009051717646|         NULL|  NULL|73.02|2963072|          38|\n",
            "|2019-12-22 12:55:17|      view|   5707747|1487580009051717646|         NULL|  NULL|73.02|2963072|          38|\n",
            "+-------------------+----------+----------+-------------------+-------------+------+-----+-------+------------+\n",
            "\n"
          ]
        }
      ]
    },
    {
      "cell_type": "code",
      "source": [
        "# 컬럼 확인\n",
        "result = spark.sql(\"\"\"\n",
        "SELECT count(distinct user_id)\n",
        "FROM new\n",
        "\"\"\")\n",
        "result.show()"
      ],
      "metadata": {
        "colab": {
          "base_uri": "https://localhost:8080/"
        },
        "id": "-FxgCFsj_1k1",
        "outputId": "b144e527-a758-486b-826c-34d602fbbc82"
      },
      "execution_count": null,
      "outputs": [
        {
          "output_type": "stream",
          "name": "stdout",
          "text": [
            "+-----------------------+\n",
            "|count(DISTINCT user_id)|\n",
            "+-----------------------+\n",
            "|                1639358|\n",
            "+-----------------------+\n",
            "\n"
          ]
        }
      ]
    },
    {
      "cell_type": "code",
      "source": [
        "result = spark.sql(\"\"\"\n",
        "SELECT count(distinct product_id, user_session)\n",
        "FROM new\n",
        "WHERE event_type = 'purchase'\n",
        "\"\"\")\n",
        "result.show()"
      ],
      "metadata": {
        "colab": {
          "base_uri": "https://localhost:8080/"
        },
        "id": "i6F5w7zQTCLR",
        "outputId": "b47c6059-e3be-426a-a949-96f1d98d82c9"
      },
      "execution_count": null,
      "outputs": [
        {
          "output_type": "stream",
          "name": "stdout",
          "text": [
            "+----------------------------------------+\n",
            "|count(DISTINCT product_id, user_session)|\n",
            "+----------------------------------------+\n",
            "|                                 1279833|\n",
            "+----------------------------------------+\n",
            "\n"
          ]
        }
      ]
    },
    {
      "cell_type": "code",
      "source": [
        "result = spark.sql(\"\"\"\n",
        "SELECT count(distinct user_id, user_session)\n",
        "FROM new\n",
        "WHERE event_type = 'purchase'\n",
        "\"\"\")\n",
        "result.show()"
      ],
      "metadata": {
        "colab": {
          "base_uri": "https://localhost:8080/"
        },
        "id": "vgYaZWmCTwjP",
        "outputId": "b8737c91-34f7-4c00-ba01-1b9348b22118"
      },
      "execution_count": null,
      "outputs": [
        {
          "output_type": "stream",
          "name": "stdout",
          "text": [
            "+-------------------------------------+\n",
            "|count(DISTINCT user_id, user_session)|\n",
            "+-------------------------------------+\n",
            "|                               157371|\n",
            "+-------------------------------------+\n",
            "\n"
          ]
        }
      ]
    },
    {
      "cell_type": "markdown",
      "source": [
        "# 구매된 제품수 확인\n"
      ],
      "metadata": {
        "id": "De_D5wHD--iG"
      }
    },
    {
      "cell_type": "code",
      "source": [
        "# 전체 제품수\n",
        "item = spark.sql(\"\"\"\n",
        "SELECT count(*)\n",
        "FROM new\n",
        "WHERE event_type = 'purchase'\n",
        "\"\"\")\n",
        "item.show()"
      ],
      "metadata": {
        "colab": {
          "base_uri": "https://localhost:8080/"
        },
        "id": "4WWqjU_AwrXX",
        "outputId": "939ead2f-0604-441c-e042-cfa968205603"
      },
      "execution_count": null,
      "outputs": [
        {
          "output_type": "stream",
          "name": "stdout",
          "text": [
            "+--------+\n",
            "|count(1)|\n",
            "+--------+\n",
            "| 1286881|\n",
            "+--------+\n",
            "\n"
          ]
        }
      ]
    },
    {
      "cell_type": "code",
      "source": [
        "# 가격 구간별 제품 수\n",
        "item = spark.sql(\"\"\"\n",
        "SELECT ( CASE\n",
        "        WHEN price <= 15 THEN 0\n",
        "        WHEN 15 < price AND price <= 75 THEN 1\n",
        "        ELSE 2\n",
        "        END) price_group\n",
        "        , count(distinct product_id, user_id) case\n",
        "        , ROUND(SUM(price), 2) AS sales\n",
        "FROM new\n",
        "WHERE event_type = 'purchase'\n",
        "GROUP BY price_group\n",
        "ORDER BY case DESC;\n",
        "\"\"\")\n",
        "item.show()"
      ],
      "metadata": {
        "colab": {
          "base_uri": "https://localhost:8080/"
        },
        "id": "i9fj-qaM2kGS",
        "outputId": "7ae01e89-8632-4ed8-b3ec-900db612cc46"
      },
      "execution_count": null,
      "outputs": [
        {
          "output_type": "stream",
          "name": "stdout",
          "text": [
            "+-----------+-------+----------+\n",
            "|price_group|   case|     sales|\n",
            "+-----------+-------+----------+\n",
            "|          0|1170478|4538650.63|\n",
            "|          1|  52003|1375177.48|\n",
            "|          2|   3390| 438002.18|\n",
            "+-----------+-------+----------+\n",
            "\n"
          ]
        }
      ]
    },
    {
      "cell_type": "code",
      "source": [
        "# 가격 구간별 제품 수\n",
        "item = spark.sql(\"\"\"\n",
        "SELECT ( CASE\n",
        "        WHEN price <= 15 THEN 0\n",
        "        WHEN 15 < price AND price <= 75 THEN 1\n",
        "        ELSE 2\n",
        "        END) price_group\n",
        "        , count(distinct p2roduct_id, user_id) case\n",
        "FROM new\n",
        "WHERE event_type = 'purchase'\n",
        "GROUP BY price_group\n",
        "ORDER BY case DESC;\n",
        "\"\"\")\n",
        "item.show()"
      ],
      "metadata": {
        "colab": {
          "base_uri": "https://localhost:8080/"
        },
        "id": "BCt7CYC73gTZ",
        "outputId": "6ccb0a63-ef86-4e28-893c-527d7f1d8c48"
      },
      "execution_count": null,
      "outputs": [
        {
          "output_type": "stream",
          "name": "stdout",
          "text": [
            "+-----------+-------+\n",
            "|price_group|   case|\n",
            "+-----------+-------+\n",
            "|          0|1170478|\n",
            "|          1|  52003|\n",
            "|          2|   3390|\n",
            "+-----------+-------+\n",
            "\n"
          ]
        }
      ]
    },
    {
      "cell_type": "code",
      "source": [
        "# 가격 구간별 제품 수\n",
        "item = spark.sql(\"\"\"\n",
        "WITH p_group AS (\n",
        "  SELECT product_id\n",
        "       , price\n",
        "       , CASE\n",
        "           WHEN price <= 15 THEN 'low'\n",
        "           WHEN price > 15 AND price <= 75 THEN 'middle'\n",
        "           ELSE 'high'\n",
        "         END AS price_group\n",
        "  FROM new\n",
        "  WHERE event_type = 'purchase'\n",
        ")\n",
        "SELECT price_group\n",
        "     , ROUND(SUM(price), 2) AS sales\n",
        "     , COUNT(product_id) AS cnt_group\n",
        "FROM p_group\n",
        "GROUP BY price_group\n",
        "ORDER BY sales DESC NULLS LAST;\n",
        "\"\"\")\n",
        "item.show()"
      ],
      "metadata": {
        "colab": {
          "base_uri": "https://localhost:8080/"
        },
        "id": "rNbm3Cux3sEn",
        "outputId": "93071a19-b645-4fb3-a3f7-bb5fdc288c7f"
      },
      "execution_count": null,
      "outputs": [
        {
          "output_type": "stream",
          "name": "stdout",
          "text": [
            "+-----------+----------+---------+\n",
            "|price_group|     sales|cnt_group|\n",
            "+-----------+----------+---------+\n",
            "|        low|4538650.63|  1227556|\n",
            "|     middle|1375177.48|    55758|\n",
            "|       high| 438002.18|     3567|\n",
            "+-----------+----------+---------+\n",
            "\n"
          ]
        }
      ]
    },
    {
      "cell_type": "markdown",
      "source": [
        "# 구매주기 확인\n"
      ],
      "metadata": {
        "id": "Zru7XwhN_I6i"
      }
    },
    {
      "cell_type": "code",
      "source": [
        "# 아무런 조건 없이 1번 이상 구매한 사람들 list\n",
        "cycle = spark.sql(\"\"\"\n",
        "WITH cycle AS (\n",
        "  SELECT brand\n",
        "       , product_id\n",
        "       , user_id\n",
        "       , MIN(DATE_FORMAT(event_time, 'yyyy-MM-dd')) AS first_purchase\n",
        "       , MAX(DATE_FORMAT(event_time, 'yyyy-MM-dd')) AS last_purchase\n",
        "       , COUNT(DISTINCT user_id, user_session) AS cnt_purchase\n",
        "  FROM new\n",
        "  WHERE event_type = 'purchase'\n",
        "  GROUP BY brand, product_id, user_id\n",
        "  ORDER BY first_purchase\n",
        ")\n",
        "SELECT *\n",
        "FROM (\n",
        "    SELECT *\n",
        "          , CASE WHEN DATE_ADD(first_purchase, 1) <= last_purchase THEN 'Y' ELSE 'N' END AS repurchase\n",
        "          , DATEDIFF(last_purchase, first_purchase) AS inverval\n",
        "          , CASE WHEN DATEDIFF(last_purchase, first_purchase) = 0 THEN 0\n",
        "                  ELSE DATEDIFF(last_purchase, first_purchase) / (cnt_purchase - 1) END AS purchase_cycle\n",
        "    FROM cycle\n",
        ") sub\n",
        "\n",
        "\"\"\")\n",
        "cycle.show()"
      ],
      "metadata": {
        "colab": {
          "base_uri": "https://localhost:8080/"
        },
        "id": "A4-OtpuiySWz",
        "outputId": "8e7faedc-b218-4399-b9d3-a98b27138036"
      },
      "execution_count": null,
      "outputs": [
        {
          "output_type": "stream",
          "name": "stdout",
          "text": [
            "+-----+----------+---------+--------------+-------------+------------+----------+--------+--------------+\n",
            "|brand|product_id|  user_id|first_purchase|last_purchase|cnt_purchase|repurchase|inverval|purchase_cycle|\n",
            "+-----+----------+---------+--------------+-------------+------------+----------+--------+--------------+\n",
            "| null|      8098|555438679|    2019-10-01|   2019-10-01|           1|         N|       0|           0.0|\n",
            "| null|      6846|538234633|    2019-10-01|   2019-10-01|           1|         N|       0|           0.0|\n",
            "| null|     36747|555571205|    2019-10-01|   2019-10-01|           1|         N|       0|           0.0|\n",
            "| null|     35344|555448661|    2019-10-01|   2019-10-01|           1|         N|       0|           0.0|\n",
            "| null|      9139|530495486|    2019-10-01|   2019-10-01|           1|         N|       0|           0.0|\n",
            "| null|      7527|361249478|    2019-10-01|   2019-10-01|           1|         N|       0|           0.0|\n",
            "| null|      4542|531662481|    2019-10-01|   2019-10-01|           1|         N|       0|           0.0|\n",
            "| null|      4542|550444466|    2019-10-01|   2019-10-01|           1|         N|       0|           0.0|\n",
            "| null|      9822|555448661|    2019-10-01|   2019-10-01|           1|         N|       0|           0.0|\n",
            "| null|      7561|475297298|    2019-10-01|   2019-10-01|           1|         N|       0|           0.0|\n",
            "| null|      6732|555663122|    2019-10-01|   2019-10-01|           1|         N|       0|           0.0|\n",
            "| null|      4645|408145588|    2019-10-01|   2019-10-01|           1|         N|       0|           0.0|\n",
            "| null|     10078|230934864|    2019-10-01|   2019-10-01|           1|         N|       0|           0.0|\n",
            "| null|      7652|429140531|    2019-10-01|   2019-10-01|           1|         N|       0|           0.0|\n",
            "| null|      6730|551140790|    2019-10-01|   2019-10-01|           1|         N|       0|           0.0|\n",
            "| null|      4664|531408728|    2019-10-01|   2019-10-01|           1|         N|       0|           0.0|\n",
            "| null|     10115|230934864|    2019-10-01|   2019-10-01|           1|         N|       0|           0.0|\n",
            "| null|      7662|555527360|    2019-10-01|   2019-10-01|           1|         N|       0|           0.0|\n",
            "| null|      6737|555726808|    2019-10-01|   2019-10-01|           1|         N|       0|           0.0|\n",
            "| null|      4751|554832207|    2019-10-01|   2019-10-01|           1|         N|       0|           0.0|\n",
            "+-----+----------+---------+--------------+-------------+------------+----------+--------+--------------+\n",
            "only showing top 20 rows\n",
            "\n"
          ]
        }
      ]
    },
    {
      "cell_type": "code",
      "source": [
        "cycle.coalesce(1).write.format(\"com.databricks.spark.csv\").option(\"header\", \"true\").save(\"/content/drive/MyDrive/cosmetic/all_repurch.csv\")"
      ],
      "metadata": {
        "id": "DmCN2GjtzPZG"
      },
      "execution_count": null,
      "outputs": []
    },
    {
      "cell_type": "code",
      "source": [
        "repurch1 = spark.read.csv('/content/drive/MyDrive/cosmetic/all_repurch.csv/part-00000-455c4a15-147b-40c9-b711-ebc04bbe9d66-c000.csv', inferSchema=True, header = True)\n",
        "repurch1.show()"
      ],
      "metadata": {
        "colab": {
          "base_uri": "https://localhost:8080/"
        },
        "id": "OzZauHrEy97a",
        "outputId": "ed2664e1-516b-41e6-ea01-6d6e1a2d5b11"
      },
      "execution_count": null,
      "outputs": [
        {
          "output_type": "stream",
          "name": "stdout",
          "text": [
            "+-----+----------+---------+--------------+-------------+------------+----------+--------+--------------+\n",
            "|brand|product_id|  user_id|first_purchase|last_purchase|cnt_purchase|repurchase|inverval|purchase_cycle|\n",
            "+-----+----------+---------+--------------+-------------+------------+----------+--------+--------------+\n",
            "| null|      4542|550444466|    2019-10-01|   2019-10-01|           1|         N|       0|           0.0|\n",
            "| null|      4592|550444466|    2019-10-01|   2019-10-01|           1|         N|       0|           0.0|\n",
            "| null|      4642|554832207|    2019-10-01|   2019-10-01|           1|         N|       0|           0.0|\n",
            "| null|      4645|408145588|    2019-10-01|   2019-10-01|           1|         N|       0|           0.0|\n",
            "| null|      4645|554832207|    2019-10-01|   2019-10-01|           1|         N|       0|           0.0|\n",
            "| null|      4664|531408728|    2019-10-01|   2019-10-01|           1|         N|       0|           0.0|\n",
            "| null|      4681|550444466|    2019-10-01|   2019-10-20|           2|         Y|      19|          19.0|\n",
            "| null|      4751|554832207|    2019-10-01|   2019-10-01|           1|         N|       0|           0.0|\n",
            "| null|      5378|437700440|    2019-10-01|   2019-10-01|           1|         N|       0|           0.0|\n",
            "| null|      5378|524528278|    2019-10-01|   2019-10-01|           1|         N|       0|           0.0|\n",
            "| null|      6730|289896770|    2019-10-01|   2019-10-01|           1|         N|       0|           0.0|\n",
            "| null|      6730|444962507|    2019-10-01|   2019-12-12|           2|         Y|      72|          72.0|\n",
            "| null|      6730|543742835|    2019-10-01|   2019-10-01|           1|         N|       0|           0.0|\n",
            "| null|      6730|555544514|    2019-10-01|   2019-10-01|           1|         N|       0|           0.0|\n",
            "| null|      6731|429179215|    2019-10-01|   2019-10-01|           1|         N|       0|           0.0|\n",
            "| null|      6732|370887102|    2019-10-01|   2020-02-27|           6|         Y|     149|          29.8|\n",
            "| null|      6737|554856895|    2019-10-01|   2019-10-01|           1|         N|       0|           0.0|\n",
            "| null|      6817|554005703|    2019-10-01|   2019-10-01|           1|         N|       0|           0.0|\n",
            "| null|      6817|555712907|    2019-10-01|   2019-10-01|           1|         N|       0|           0.0|\n",
            "| null|      6818|541475200|    2019-10-01|   2019-10-01|           1|         N|       0|           0.0|\n",
            "+-----+----------+---------+--------------+-------------+------------+----------+--------+--------------+\n",
            "only showing top 20 rows\n",
            "\n"
          ]
        }
      ]
    },
    {
      "cell_type": "code",
      "source": [
        "#1회성 구매\n",
        "repurch1.createOrReplaceTempView('repurch1')\n",
        "\n",
        "result = spark.sql(\"\"\"\n",
        "SELECT count(*)\n",
        "FROM repurch1\n",
        "where repurchase = 'N'\n",
        "\"\"\")\n",
        "result.show()"
      ],
      "metadata": {
        "colab": {
          "base_uri": "https://localhost:8080/"
        },
        "id": "gn98pupO0nW-",
        "outputId": "a10d567b-6d26-4607-edf5-08db98714dd1"
      },
      "execution_count": null,
      "outputs": [
        {
          "output_type": "stream",
          "name": "stdout",
          "text": [
            "+--------+\n",
            "|count(1)|\n",
            "+--------+\n",
            "| 1189306|\n",
            "+--------+\n",
            "\n"
          ]
        }
      ]
    },
    {
      "cell_type": "code",
      "source": [
        "#구매자\n",
        "repurch1.createOrReplaceTempView('repurch1')\n",
        "\n",
        "result = spark.sql(\"\"\"\n",
        "SELECT count(*)\n",
        "FROM repurch1\n",
        "\"\"\")\n",
        "result.show()"
      ],
      "metadata": {
        "colab": {
          "base_uri": "https://localhost:8080/"
        },
        "id": "Rvd9gQqULt-7",
        "outputId": "099ad61f-7f5e-4779-8a13-7f896d19d06b"
      },
      "execution_count": null,
      "outputs": [
        {
          "output_type": "stream",
          "name": "stdout",
          "text": [
            "+--------+\n",
            "|count(1)|\n",
            "+--------+\n",
            "| 1225944|\n",
            "+--------+\n",
            "\n"
          ]
        }
      ]
    },
    {
      "cell_type": "code",
      "source": [
        "#1회성 구매한 case와 재구매 case수 구하기\n",
        "repurch1.createOrReplaceTempView('repurch1')\n",
        "\n",
        "result = spark.sql(\"\"\"\n",
        "SELECT COUNT(product_id) AS pur_num,\n",
        "       COUNT(CASE WHEN repurchase = 'Y' THEN product_id END) AS re_pur_num\n",
        "FROM repurch1;\n",
        "\"\"\")\n",
        "result.show()"
      ],
      "metadata": {
        "id": "IPSYiBqU0nY4",
        "colab": {
          "base_uri": "https://localhost:8080/"
        },
        "outputId": "6dddb99d-f9d8-4bec-c4de-cf72c7ee1f19"
      },
      "execution_count": null,
      "outputs": [
        {
          "output_type": "stream",
          "name": "stdout",
          "text": [
            "+-------+----------+\n",
            "|pur_num|re_pur_num|\n",
            "+-------+----------+\n",
            "|1225944|     36638|\n",
            "+-------+----------+\n",
            "\n"
          ]
        }
      ]
    },
    {
      "cell_type": "code",
      "source": [
        "#1회성 구매한 case와 재구매 case수 구하기\n",
        "repurch1.createOrReplaceTempView('repurch1')\n",
        "\n",
        "result = spark.sql(\"\"\"\n",
        "SELECT COUNT(distinct user_id) AS pur_num,\n",
        "       COUNT(distinct CASE WHEN repurchase = 'Y' THEN user_id END) AS re_pur_num\n",
        "FROM repurch1;\n",
        "\"\"\")\n",
        "result.show()"
      ],
      "metadata": {
        "colab": {
          "base_uri": "https://localhost:8080/"
        },
        "id": "W6DeQ9beI-F5",
        "outputId": "c1175f71-315a-4b5f-f03d-ec17d6299739"
      },
      "execution_count": null,
      "outputs": [
        {
          "output_type": "stream",
          "name": "stdout",
          "text": [
            "+-------+----------+\n",
            "|pur_num|re_pur_num|\n",
            "+-------+----------+\n",
            "| 110518|     10135|\n",
            "+-------+----------+\n",
            "\n"
          ]
        }
      ]
    },
    {
      "cell_type": "code",
      "source": [
        "repurch.createOrReplaceTempView('repurch')\n",
        "cycle1 = spark.sql(\"\"\"\n",
        "  WITH cycle AS (\n",
        "  SELECT user_id\n",
        "       , MIN(DATE_FORMAT(event_time, 'yyyy-MM-dd')) AS first_purchase\n",
        "       , MAX(DATE_FORMAT(event_time, 'yyyy-MM-dd')) AS last_purchase\n",
        "       , COUNT(DISTINCT user_id, user_session) AS cnt_purchase\n",
        "  FROM new\n",
        "  WHERE event_type = 'purchase'\n",
        "  GROUP BY user_id\n",
        "  ORDER BY first_purchase\n",
        ")\n",
        "SELECT COUNT(*)\n",
        "FROM (\n",
        "    SELECT *\n",
        "          , CASE WHEN DATE_ADD(first_purchase, 1) <= last_purchase THEN 'Y' ELSE 'N' END AS repurchase\n",
        "          , DATEDIFF(last_purchase, first_purchase) AS inverval\n",
        "          , CASE WHEN DATEDIFF(last_purchase, first_purchase) = 0 THEN 0\n",
        "                  ELSE DATEDIFF(last_purchase, first_purchase) / (cnt_purchase - 1) END AS purchase_cycle\n",
        "    FROM cycle\n",
        "    WHERE repurchase = 'Y'\n",
        ") sub\n",
        "\"\"\")\n",
        "cycle1.show()"
      ],
      "metadata": {
        "id": "OZPzP1M_393d"
      },
      "execution_count": null,
      "outputs": []
    },
    {
      "cell_type": "markdown",
      "source": [
        "# 가격 구간별 구매주기\n",
        "- $75 이상인 제품군 관련 로그데이터 로드\n",
        "- 1단계: (마지막구매 - 첫구매) > 1인 조건에 따라\n",
        "- 2단계: 재구매자면 'Y', 일회성 구매자면 'N' 라는 값을 갖는 'repurchase' 컬럼 생성\n",
        "- 3단계: 재구매 한정, 구매 주기 확인  "
      ],
      "metadata": {
        "id": "B0N9wpzJv2CQ"
      }
    },
    {
      "cell_type": "code",
      "source": [
        "high_price_cycle = spark.sql(\"\"\"\n",
        "WITH cycle AS (\n",
        "  SELECT brand\n",
        "       , product_id\n",
        "       , user_id\n",
        "       , MIN(DATE_FORMAT(event_time, 'yyyy-MM-dd')) AS first_purchase\n",
        "       , MAX(DATE_FORMAT(event_time, 'yyyy-MM-dd')) AS last_purchase\n",
        "       , COUNT(DISTINCT user_id, user_session) AS cnt_purchase\n",
        "  FROM new\n",
        "  WHERE event_type = 'purchase'\n",
        "  AND price > 75\n",
        "  GROUP BY brand, product_id, user_id\n",
        "  ORDER BY first_purchase\n",
        ")\n",
        "SELECT *\n",
        "FROM (\n",
        "    SELECT *\n",
        "          , CASE WHEN DATE_ADD(first_purchase, 1) <= last_purchase THEN 'Y' ELSE 'N' END AS repurchase\n",
        "          , DATEDIFF(last_purchase, first_purchase) AS inverval\n",
        "          , CASE WHEN DATEDIFF(last_purchase, first_purchase) = 0 THEN 0\n",
        "                  ELSE DATEDIFF(last_purchase, first_purchase) / (cnt_purchase - 1) END AS purchase_cycle\n",
        "    FROM cycle\n",
        ") sub\n",
        "\n",
        "\"\"\")\n",
        "\n",
        "high_price_cycle.coalesce(1).write.format(\"com.databricks.spark.csv\").option(\"header\", \"true\").save(\"/content/drive/MyDrive/cosmetic/high_75.csv\")"
      ],
      "metadata": {
        "id": "4ZXhzAEWv0Wc"
      },
      "execution_count": null,
      "outputs": []
    },
    {
      "cell_type": "code",
      "source": [
        "# 가격별 구매리스트 파일 불러오기\n",
        "repurch = spark.read.csv('/content/drive/MyDrive/cosmetic/all_repurch.csv/part-00000-455c4a15-147b-40c9-b711-ebc04bbe9d66-c000.csv', inferSchema=True, header = True)\n",
        "repurch.show()\n",
        "repurch.createOrReplaceTempView('repurch')"
      ],
      "metadata": {
        "colab": {
          "base_uri": "https://localhost:8080/"
        },
        "id": "q40aUeOixBoi",
        "outputId": "5bbee073-1822-4f0c-8560-4dcb5e9ffa5d"
      },
      "execution_count": null,
      "outputs": [
        {
          "output_type": "stream",
          "name": "stdout",
          "text": [
            "+-----+----------+---------+--------------+-------------+------------+----------+--------+--------------+\n",
            "|brand|product_id|  user_id|first_purchase|last_purchase|cnt_purchase|repurchase|inverval|purchase_cycle|\n",
            "+-----+----------+---------+--------------+-------------+------------+----------+--------+--------------+\n",
            "| null|      4542|550444466|    2019-10-01|   2019-10-01|           1|         N|       0|           0.0|\n",
            "| null|      4592|550444466|    2019-10-01|   2019-10-01|           1|         N|       0|           0.0|\n",
            "| null|      4642|554832207|    2019-10-01|   2019-10-01|           1|         N|       0|           0.0|\n",
            "| null|      4645|408145588|    2019-10-01|   2019-10-01|           1|         N|       0|           0.0|\n",
            "| null|      4645|554832207|    2019-10-01|   2019-10-01|           1|         N|       0|           0.0|\n",
            "| null|      4664|531408728|    2019-10-01|   2019-10-01|           1|         N|       0|           0.0|\n",
            "| null|      4681|550444466|    2019-10-01|   2019-10-20|           2|         Y|      19|          19.0|\n",
            "| null|      4751|554832207|    2019-10-01|   2019-10-01|           1|         N|       0|           0.0|\n",
            "| null|      5378|437700440|    2019-10-01|   2019-10-01|           1|         N|       0|           0.0|\n",
            "| null|      5378|524528278|    2019-10-01|   2019-10-01|           1|         N|       0|           0.0|\n",
            "| null|      6730|289896770|    2019-10-01|   2019-10-01|           1|         N|       0|           0.0|\n",
            "| null|      6730|444962507|    2019-10-01|   2019-12-12|           2|         Y|      72|          72.0|\n",
            "| null|      6730|543742835|    2019-10-01|   2019-10-01|           1|         N|       0|           0.0|\n",
            "| null|      6730|555544514|    2019-10-01|   2019-10-01|           1|         N|       0|           0.0|\n",
            "| null|      6731|429179215|    2019-10-01|   2019-10-01|           1|         N|       0|           0.0|\n",
            "| null|      6732|370887102|    2019-10-01|   2020-02-27|           6|         Y|     149|          29.8|\n",
            "| null|      6737|554856895|    2019-10-01|   2019-10-01|           1|         N|       0|           0.0|\n",
            "| null|      6817|554005703|    2019-10-01|   2019-10-01|           1|         N|       0|           0.0|\n",
            "| null|      6817|555712907|    2019-10-01|   2019-10-01|           1|         N|       0|           0.0|\n",
            "| null|      6818|541475200|    2019-10-01|   2019-10-01|           1|         N|       0|           0.0|\n",
            "+-----+----------+---------+--------------+-------------+------------+----------+--------+--------------+\n",
            "only showing top 20 rows\n",
            "\n"
          ]
        }
      ]
    },
    {
      "cell_type": "code",
      "source": [
        "# 가격별 구매리스트 파일 불러오기\n",
        "# 저가 상품 로그데이터 로드\n",
        "repurch = spark.read.csv('/content/drive/MyDrive/cosmetic/low_15.csv/part-00000-324d76a0-eb72-4964-bf26-9f4dd69cf47a-c000.csv', inferSchema=True, header = True)\n",
        "repurch.show()\n",
        "repurch.createOrReplaceTempView('repurch')"
      ],
      "metadata": {
        "colab": {
          "base_uri": "https://localhost:8080/"
        },
        "id": "4HGSH3htBOBI",
        "outputId": "4474656d-0397-4a7f-edfa-ffd5a339c360"
      },
      "execution_count": null,
      "outputs": [
        {
          "output_type": "stream",
          "name": "stdout",
          "text": [
            "+-----+----------+---------+--------------+-------------+------------+----------+--------+--------------+\n",
            "|brand|product_id|  user_id|first_purchase|last_purchase|cnt_purchase|repurchase|inverval|purchase_cycle|\n",
            "+-----+----------+---------+--------------+-------------+------------+----------+--------+--------------+\n",
            "| null|      4542|550444466|    2019-10-01|   2019-10-01|           1|         N|       0|           0.0|\n",
            "| null|      4592|550444466|    2019-10-01|   2019-10-01|           1|         N|       0|           0.0|\n",
            "| null|      4642|554832207|    2019-10-01|   2019-10-01|           1|         N|       0|           0.0|\n",
            "| null|      4645|408145588|    2019-10-01|   2019-10-01|           1|         N|       0|           0.0|\n",
            "| null|      4645|554832207|    2019-10-01|   2019-10-01|           1|         N|       0|           0.0|\n",
            "| null|      4664|531408728|    2019-10-01|   2019-10-01|           1|         N|       0|           0.0|\n",
            "| null|      4681|550444466|    2019-10-01|   2019-10-20|           2|         Y|      19|          19.0|\n",
            "| null|      4751|554832207|    2019-10-01|   2019-10-01|           1|         N|       0|           0.0|\n",
            "| null|      5378|437700440|    2019-10-01|   2019-10-01|           1|         N|       0|           0.0|\n",
            "| null|      5378|524528278|    2019-10-01|   2019-10-01|           1|         N|       0|           0.0|\n",
            "| null|      6730|289896770|    2019-10-01|   2019-10-01|           1|         N|       0|           0.0|\n",
            "| null|      6730|444962507|    2019-10-01|   2019-12-12|           2|         Y|      72|          72.0|\n",
            "| null|      6730|543742835|    2019-10-01|   2019-10-01|           1|         N|       0|           0.0|\n",
            "| null|      6730|555544514|    2019-10-01|   2019-10-01|           1|         N|       0|           0.0|\n",
            "| null|      6731|429179215|    2019-10-01|   2019-10-01|           1|         N|       0|           0.0|\n",
            "| null|      6732|370887102|    2019-10-01|   2020-02-27|           6|         Y|     149|          29.8|\n",
            "| null|      6737|554856895|    2019-10-01|   2019-10-01|           1|         N|       0|           0.0|\n",
            "| null|      6817|554005703|    2019-10-01|   2019-10-01|           1|         N|       0|           0.0|\n",
            "| null|      6817|555712907|    2019-10-01|   2019-10-01|           1|         N|       0|           0.0|\n",
            "| null|      6818|541475200|    2019-10-01|   2019-10-01|           1|         N|       0|           0.0|\n",
            "+-----+----------+---------+--------------+-------------+------------+----------+--------+--------------+\n",
            "only showing top 20 rows\n",
            "\n"
          ]
        }
      ]
    },
    {
      "cell_type": "code",
      "source": [
        "# 잘못구한듯,,,, distinct 제외\n",
        "# 재구매회원\n",
        "repurch.createOrReplaceTempView('repurch')\n",
        "\n",
        "result = spark.sql(\"\"\"\n",
        "SELECT COUNT(DISTINCT user_id) AS pur_num,\n",
        "       COUNT(DISTINCT CASE WHEN repurchase = 'Y' THEN user_id END) AS re_pur_num\n",
        "FROM repurch;\n",
        "\"\"\")\n",
        "result.show()"
      ],
      "metadata": {
        "colab": {
          "base_uri": "https://localhost:8080/"
        },
        "id": "RRBJexd2xBqi",
        "outputId": "221a35a0-40d0-436e-fc49-e93f9f58f352"
      },
      "execution_count": null,
      "outputs": [
        {
          "output_type": "stream",
          "name": "stdout",
          "text": [
            "+-------+----------+\n",
            "|pur_num|re_pur_num|\n",
            "+-------+----------+\n",
            "|  92587|      7211|\n",
            "+-------+----------+\n",
            "\n"
          ]
        }
      ]
    },
    {
      "cell_type": "code",
      "source": [
        "# Low군 구매/ 재구매\n",
        "repurch.createOrReplaceTempView('repurch')\n",
        "\n",
        "result = spark.sql(\"\"\"\n",
        "SELECT COUNT(distinct user_id, product_id) AS pur_num,\n",
        "       COUNT(distinct CASE WHEN repurchase = 'Y' THEN product_id END) AS re_pur_num\n",
        "FROM repurch;\n",
        "\"\"\")\n",
        "result.show()"
      ],
      "metadata": {
        "colab": {
          "base_uri": "https://localhost:8080/"
        },
        "id": "BcKPZegaDwcW",
        "outputId": "513f0db9-b309-4b5a-b3a3-2c4e1f4acf19"
      },
      "execution_count": null,
      "outputs": [
        {
          "output_type": "stream",
          "name": "stdout",
          "text": [
            "+-------+----------+\n",
            "|pur_num|re_pur_num|\n",
            "+-------+----------+\n",
            "|1170649|     10084|\n",
            "+-------+----------+\n",
            "\n"
          ]
        }
      ]
    },
    {
      "cell_type": "code",
      "source": [
        "# 평균 구매주기\n",
        "result = spark.sql(\"\"\"\n",
        "SELECT avg(purchase_cycle)\n",
        "FROM repurch\n",
        "WHERE repurchase = 'Y'\n",
        "\"\"\")\n",
        "result.show()"
      ],
      "metadata": {
        "colab": {
          "base_uri": "https://localhost:8080/"
        },
        "id": "GVuqEWXTxBuE",
        "outputId": "06c47d0b-1ba4-4452-feea-afc3059117db"
      },
      "execution_count": null,
      "outputs": [
        {
          "output_type": "stream",
          "name": "stdout",
          "text": [
            "+-------------------+\n",
            "|avg(purchase_cycle)|\n",
            "+-------------------+\n",
            "|  34.50546095408604|\n",
            "+-------------------+\n",
            "\n"
          ]
        }
      ]
    },
    {
      "cell_type": "code",
      "source": [
        "# 구간별 회원수\n",
        "result = spark.sql(\"\"\"\n",
        "SELECT  interval_4\n",
        "\t\t,COUNT(user_id) AS cnt\n",
        "   FROM  (\n",
        "\t\tSELECT  *\n",
        "\t\t\t\t,CASE WHEN inverval <= 7 THEN '7일 이내'\n",
        "\t\t\t\t\t  WHEN inverval <= 14 THEN '14일 이내'\n",
        "\t\t\t\t\t  WHEN inverval <= 21 THEN '21일 이내'\n",
        "\t\t\t\t\t  WHEN inverval <= 28 THEN '28일 이내'\n",
        "\t\t\t\t\t  ELSE '29일 이후' END AS interval_4\n",
        "\t\t  FROM  repurch\n",
        "\t\t WHERE  inverval > 0\n",
        "\t\t )AS A\n",
        "  GROUP BY  interval_4\n",
        "  ORDER BY cnt desc\n",
        "\"\"\")\n",
        "result.show()"
      ],
      "metadata": {
        "colab": {
          "base_uri": "https://localhost:8080/"
        },
        "id": "JJhCkvpyxBv7",
        "outputId": "24251968-022e-407d-831f-a056d4446e01"
      },
      "execution_count": null,
      "outputs": [
        {
          "output_type": "stream",
          "name": "stdout",
          "text": [
            "+----------+---+\n",
            "|interval_4|cnt|\n",
            "+----------+---+\n",
            "| 29일 이후|787|\n",
            "|  7일 이내|276|\n",
            "| 21일 이내| 84|\n",
            "| 28일 이내| 82|\n",
            "| 14일 이내| 79|\n",
            "+----------+---+\n",
            "\n"
          ]
        }
      ]
    }
  ]
}
